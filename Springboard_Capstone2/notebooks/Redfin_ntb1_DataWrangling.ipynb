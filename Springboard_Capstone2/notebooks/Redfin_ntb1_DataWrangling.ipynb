{
 "cells": [
  {
   "cell_type": "markdown",
   "metadata": {},
   "source": [
    "# Data Wrangling - Redfin Data"
   ]
  },
  {
   "cell_type": "code",
   "execution_count": 1,
   "metadata": {},
   "outputs": [],
   "source": [
    "import pandas as pd\n",
    "import numpy as np\n",
    "import matplotlib.pyplot as plt\n",
    "import seaborn as sns\n",
    "import glob\n",
    "import category_encoders as ce"
   ]
  },
  {
   "cell_type": "code",
   "execution_count": 2,
   "metadata": {},
   "outputs": [],
   "source": [
    "#concatenating downloaded csv files from Redfin\n",
    "#Redfin has download limit of 350 records\n",
    "#to get around this I used the following criteria in my search:\n",
    "    #searched by zipcode, houses sold in the last 3 months\n",
    "df = pd.concat(map(pd.read_csv, glob.glob('../data/raw/redfin_data/*.csv')))"
   ]
  },
  {
   "cell_type": "markdown",
   "metadata": {},
   "source": [
    "# Exploring the data"
   ]
  },
  {
   "cell_type": "code",
   "execution_count": 3,
   "metadata": {},
   "outputs": [
    {
     "name": "stdout",
     "output_type": "stream",
     "text": [
      "<class 'pandas.core.frame.DataFrame'>\n",
      "Int64Index: 16489 entries, 0 to 274\n",
      "Data columns (total 27 columns):\n",
      " #   Column                                                                                      Non-Null Count  Dtype  \n",
      "---  ------                                                                                      --------------  -----  \n",
      " 0   SALE TYPE                                                                                   16489 non-null  object \n",
      " 1   SOLD DATE                                                                                   14741 non-null  object \n",
      " 2   PROPERTY TYPE                                                                               16489 non-null  object \n",
      " 3   ADDRESS                                                                                     16486 non-null  object \n",
      " 4   CITY                                                                                        16489 non-null  object \n",
      " 5   STATE OR PROVINCE                                                                           16489 non-null  object \n",
      " 6   ZIP OR POSTAL CODE                                                                          16489 non-null  int64  \n",
      " 7   PRICE                                                                                       16489 non-null  int64  \n",
      " 8   BEDS                                                                                        16425 non-null  float64\n",
      " 9   BATHS                                                                                       16252 non-null  float64\n",
      " 10  LOCATION                                                                                    14524 non-null  object \n",
      " 11  SQUARE FEET                                                                                 16435 non-null  float64\n",
      " 12  LOT SIZE                                                                                    14477 non-null  float64\n",
      " 13  YEAR BUILT                                                                                  16478 non-null  float64\n",
      " 14  DAYS ON MARKET                                                                              14741 non-null  float64\n",
      " 15  $/SQUARE FEET                                                                               16435 non-null  float64\n",
      " 16  HOA/MONTH                                                                                   10502 non-null  float64\n",
      " 17  STATUS                                                                                      14741 non-null  object \n",
      " 18  NEXT OPEN HOUSE START TIME                                                                  0 non-null      float64\n",
      " 19  NEXT OPEN HOUSE END TIME                                                                    0 non-null      float64\n",
      " 20  URL (SEE http://www.redfin.com/buy-a-home/comparative-market-analysis FOR INFO ON PRICING)  16489 non-null  object \n",
      " 21  SOURCE                                                                                      14741 non-null  object \n",
      " 22  MLS#                                                                                        14741 non-null  float64\n",
      " 23  FAVORITE                                                                                    16489 non-null  object \n",
      " 24  INTERESTED                                                                                  16489 non-null  object \n",
      " 25  LATITUDE                                                                                    16489 non-null  float64\n",
      " 26  LONGITUDE                                                                                   16489 non-null  float64\n",
      "dtypes: float64(13), int64(2), object(12)\n",
      "memory usage: 3.5+ MB\n"
     ]
    }
   ],
   "source": [
    "#get a general sense of the data\n",
    "df.info()"
   ]
  },
  {
   "cell_type": "code",
   "execution_count": 4,
   "metadata": {
    "scrolled": false
   },
   "outputs": [
    {
     "data": {
      "text/html": [
       "<div>\n",
       "<style scoped>\n",
       "    .dataframe tbody tr th:only-of-type {\n",
       "        vertical-align: middle;\n",
       "    }\n",
       "\n",
       "    .dataframe tbody tr th {\n",
       "        vertical-align: top;\n",
       "    }\n",
       "\n",
       "    .dataframe thead th {\n",
       "        text-align: right;\n",
       "    }\n",
       "</style>\n",
       "<table border=\"1\" class=\"dataframe\">\n",
       "  <thead>\n",
       "    <tr style=\"text-align: right;\">\n",
       "      <th></th>\n",
       "      <th>SALE TYPE</th>\n",
       "      <th>SOLD DATE</th>\n",
       "      <th>PROPERTY TYPE</th>\n",
       "      <th>ADDRESS</th>\n",
       "      <th>CITY</th>\n",
       "      <th>STATE OR PROVINCE</th>\n",
       "      <th>ZIP OR POSTAL CODE</th>\n",
       "      <th>PRICE</th>\n",
       "      <th>BEDS</th>\n",
       "      <th>BATHS</th>\n",
       "      <th>...</th>\n",
       "      <th>STATUS</th>\n",
       "      <th>NEXT OPEN HOUSE START TIME</th>\n",
       "      <th>NEXT OPEN HOUSE END TIME</th>\n",
       "      <th>URL (SEE http://www.redfin.com/buy-a-home/comparative-market-analysis FOR INFO ON PRICING)</th>\n",
       "      <th>SOURCE</th>\n",
       "      <th>MLS#</th>\n",
       "      <th>FAVORITE</th>\n",
       "      <th>INTERESTED</th>\n",
       "      <th>LATITUDE</th>\n",
       "      <th>LONGITUDE</th>\n",
       "    </tr>\n",
       "  </thead>\n",
       "  <tbody>\n",
       "    <tr>\n",
       "      <th>0</th>\n",
       "      <td>PAST SALE</td>\n",
       "      <td>April-13-2021</td>\n",
       "      <td>Single Family Residential</td>\n",
       "      <td>9329 Sienna Vista Dr</td>\n",
       "      <td>Las Vegas</td>\n",
       "      <td>NV</td>\n",
       "      <td>89117</td>\n",
       "      <td>621500</td>\n",
       "      <td>4.0</td>\n",
       "      <td>2.50</td>\n",
       "      <td>...</td>\n",
       "      <td>Sold</td>\n",
       "      <td>NaN</td>\n",
       "      <td>NaN</td>\n",
       "      <td>http://www.redfin.com/NV/Las-Vegas/9329-Sienna...</td>\n",
       "      <td>GLVAR</td>\n",
       "      <td>2278835.0</td>\n",
       "      <td>N</td>\n",
       "      <td>Y</td>\n",
       "      <td>36.154483</td>\n",
       "      <td>-115.297871</td>\n",
       "    </tr>\n",
       "    <tr>\n",
       "      <th>1</th>\n",
       "      <td>PAST SALE</td>\n",
       "      <td>March-19-2021</td>\n",
       "      <td>Single Family Residential</td>\n",
       "      <td>3358 Wardlaw St</td>\n",
       "      <td>Las Vegas</td>\n",
       "      <td>NV</td>\n",
       "      <td>89117</td>\n",
       "      <td>400000</td>\n",
       "      <td>4.0</td>\n",
       "      <td>3.00</td>\n",
       "      <td>...</td>\n",
       "      <td>Sold</td>\n",
       "      <td>NaN</td>\n",
       "      <td>NaN</td>\n",
       "      <td>http://www.redfin.com/NV/Las-Vegas/3358-Wardla...</td>\n",
       "      <td>GLVAR</td>\n",
       "      <td>2271023.0</td>\n",
       "      <td>N</td>\n",
       "      <td>Y</td>\n",
       "      <td>36.128126</td>\n",
       "      <td>-115.263408</td>\n",
       "    </tr>\n",
       "    <tr>\n",
       "      <th>2</th>\n",
       "      <td>PAST SALE</td>\n",
       "      <td>NaN</td>\n",
       "      <td>Single Family Residential</td>\n",
       "      <td>3367 Ceremony Dr</td>\n",
       "      <td>Las Vegas</td>\n",
       "      <td>NV</td>\n",
       "      <td>89117</td>\n",
       "      <td>339000</td>\n",
       "      <td>4.0</td>\n",
       "      <td>2.50</td>\n",
       "      <td>...</td>\n",
       "      <td>NaN</td>\n",
       "      <td>NaN</td>\n",
       "      <td>NaN</td>\n",
       "      <td>http://www.redfin.com/NV/Las-Vegas/3367-Ceremo...</td>\n",
       "      <td>NaN</td>\n",
       "      <td>NaN</td>\n",
       "      <td>N</td>\n",
       "      <td>Y</td>\n",
       "      <td>36.127931</td>\n",
       "      <td>-115.263037</td>\n",
       "    </tr>\n",
       "    <tr>\n",
       "      <th>3</th>\n",
       "      <td>PAST SALE</td>\n",
       "      <td>NaN</td>\n",
       "      <td>Single Family Residential</td>\n",
       "      <td>1680 City View Ct</td>\n",
       "      <td>Las Vegas</td>\n",
       "      <td>NV</td>\n",
       "      <td>89117</td>\n",
       "      <td>818000</td>\n",
       "      <td>4.0</td>\n",
       "      <td>5.00</td>\n",
       "      <td>...</td>\n",
       "      <td>NaN</td>\n",
       "      <td>NaN</td>\n",
       "      <td>NaN</td>\n",
       "      <td>http://www.redfin.com/NV/Las-Vegas/1680-City-V...</td>\n",
       "      <td>NaN</td>\n",
       "      <td>NaN</td>\n",
       "      <td>N</td>\n",
       "      <td>Y</td>\n",
       "      <td>36.151716</td>\n",
       "      <td>-115.268710</td>\n",
       "    </tr>\n",
       "    <tr>\n",
       "      <th>4</th>\n",
       "      <td>PAST SALE</td>\n",
       "      <td>March-24-2021</td>\n",
       "      <td>Townhouse</td>\n",
       "      <td>972 Prestwick St</td>\n",
       "      <td>Las Vegas</td>\n",
       "      <td>NV</td>\n",
       "      <td>89145</td>\n",
       "      <td>335000</td>\n",
       "      <td>3.0</td>\n",
       "      <td>2.75</td>\n",
       "      <td>...</td>\n",
       "      <td>Sold</td>\n",
       "      <td>NaN</td>\n",
       "      <td>NaN</td>\n",
       "      <td>http://www.redfin.com/NV/Las-Vegas/972-Prestwi...</td>\n",
       "      <td>GLVAR</td>\n",
       "      <td>2274031.0</td>\n",
       "      <td>N</td>\n",
       "      <td>Y</td>\n",
       "      <td>36.160917</td>\n",
       "      <td>-115.294868</td>\n",
       "    </tr>\n",
       "  </tbody>\n",
       "</table>\n",
       "<p>5 rows × 27 columns</p>\n",
       "</div>"
      ],
      "text/plain": [
       "   SALE TYPE      SOLD DATE              PROPERTY TYPE               ADDRESS  \\\n",
       "0  PAST SALE  April-13-2021  Single Family Residential  9329 Sienna Vista Dr   \n",
       "1  PAST SALE  March-19-2021  Single Family Residential       3358 Wardlaw St   \n",
       "2  PAST SALE            NaN  Single Family Residential      3367 Ceremony Dr   \n",
       "3  PAST SALE            NaN  Single Family Residential     1680 City View Ct   \n",
       "4  PAST SALE  March-24-2021                  Townhouse      972 Prestwick St   \n",
       "\n",
       "        CITY STATE OR PROVINCE  ZIP OR POSTAL CODE   PRICE  BEDS  BATHS  ...  \\\n",
       "0  Las Vegas                NV               89117  621500   4.0   2.50  ...   \n",
       "1  Las Vegas                NV               89117  400000   4.0   3.00  ...   \n",
       "2  Las Vegas                NV               89117  339000   4.0   2.50  ...   \n",
       "3  Las Vegas                NV               89117  818000   4.0   5.00  ...   \n",
       "4  Las Vegas                NV               89145  335000   3.0   2.75  ...   \n",
       "\n",
       "  STATUS  NEXT OPEN HOUSE START TIME  NEXT OPEN HOUSE END TIME  \\\n",
       "0   Sold                         NaN                       NaN   \n",
       "1   Sold                         NaN                       NaN   \n",
       "2    NaN                         NaN                       NaN   \n",
       "3    NaN                         NaN                       NaN   \n",
       "4   Sold                         NaN                       NaN   \n",
       "\n",
       "   URL (SEE http://www.redfin.com/buy-a-home/comparative-market-analysis FOR INFO ON PRICING)  \\\n",
       "0  http://www.redfin.com/NV/Las-Vegas/9329-Sienna...                                            \n",
       "1  http://www.redfin.com/NV/Las-Vegas/3358-Wardla...                                            \n",
       "2  http://www.redfin.com/NV/Las-Vegas/3367-Ceremo...                                            \n",
       "3  http://www.redfin.com/NV/Las-Vegas/1680-City-V...                                            \n",
       "4  http://www.redfin.com/NV/Las-Vegas/972-Prestwi...                                            \n",
       "\n",
       "   SOURCE       MLS#  FAVORITE INTERESTED   LATITUDE   LONGITUDE  \n",
       "0   GLVAR  2278835.0         N          Y  36.154483 -115.297871  \n",
       "1   GLVAR  2271023.0         N          Y  36.128126 -115.263408  \n",
       "2     NaN        NaN         N          Y  36.127931 -115.263037  \n",
       "3     NaN        NaN         N          Y  36.151716 -115.268710  \n",
       "4   GLVAR  2274031.0         N          Y  36.160917 -115.294868  \n",
       "\n",
       "[5 rows x 27 columns]"
      ]
     },
     "execution_count": 4,
     "metadata": {},
     "output_type": "execute_result"
    }
   ],
   "source": [
    "df.head()"
   ]
  },
  {
   "cell_type": "markdown",
   "metadata": {},
   "source": [
    "# Dropping unnecessary columns"
   ]
  },
  {
   "cell_type": "code",
   "execution_count": 5,
   "metadata": {},
   "outputs": [],
   "source": [
    "#drop the columns that are not useful or interpretable\n",
    "df = df.drop(columns=['SOLD DATE', 'SALE TYPE', 'STATE OR PROVINCE', 'STATUS', 'NEXT OPEN HOUSE START TIME', 'NEXT OPEN HOUSE END TIME', 'URL (SEE http://www.redfin.com/buy-a-home/comparative-market-analysis FOR INFO ON PRICING)', 'SOURCE', 'MLS#', 'FAVORITE', 'INTERESTED'])"
   ]
  },
  {
   "cell_type": "code",
   "execution_count": 6,
   "metadata": {},
   "outputs": [],
   "source": [
    "#df = df[df['PRICE'] <= 1000000]"
   ]
  },
  {
   "cell_type": "code",
   "execution_count": 7,
   "metadata": {
    "scrolled": false
   },
   "outputs": [
    {
     "data": {
      "text/html": [
       "<div>\n",
       "<style scoped>\n",
       "    .dataframe tbody tr th:only-of-type {\n",
       "        vertical-align: middle;\n",
       "    }\n",
       "\n",
       "    .dataframe tbody tr th {\n",
       "        vertical-align: top;\n",
       "    }\n",
       "\n",
       "    .dataframe thead th {\n",
       "        text-align: right;\n",
       "    }\n",
       "</style>\n",
       "<table border=\"1\" class=\"dataframe\">\n",
       "  <thead>\n",
       "    <tr style=\"text-align: right;\">\n",
       "      <th></th>\n",
       "      <th>PROPERTY TYPE</th>\n",
       "      <th>ADDRESS</th>\n",
       "      <th>CITY</th>\n",
       "      <th>ZIP OR POSTAL CODE</th>\n",
       "      <th>PRICE</th>\n",
       "      <th>BEDS</th>\n",
       "      <th>BATHS</th>\n",
       "      <th>LOCATION</th>\n",
       "      <th>SQUARE FEET</th>\n",
       "      <th>LOT SIZE</th>\n",
       "      <th>YEAR BUILT</th>\n",
       "      <th>DAYS ON MARKET</th>\n",
       "      <th>$/SQUARE FEET</th>\n",
       "      <th>HOA/MONTH</th>\n",
       "      <th>LATITUDE</th>\n",
       "      <th>LONGITUDE</th>\n",
       "    </tr>\n",
       "  </thead>\n",
       "  <tbody>\n",
       "    <tr>\n",
       "      <th>0</th>\n",
       "      <td>Single Family Residential</td>\n",
       "      <td>9329 Sienna Vista Dr</td>\n",
       "      <td>Las Vegas</td>\n",
       "      <td>89117</td>\n",
       "      <td>621500</td>\n",
       "      <td>4.0</td>\n",
       "      <td>2.50</td>\n",
       "      <td>Sienna Ridge</td>\n",
       "      <td>2352.0</td>\n",
       "      <td>6098.0</td>\n",
       "      <td>1994.0</td>\n",
       "      <td>19.0</td>\n",
       "      <td>264.0</td>\n",
       "      <td>146.0</td>\n",
       "      <td>36.154483</td>\n",
       "      <td>-115.297871</td>\n",
       "    </tr>\n",
       "    <tr>\n",
       "      <th>1</th>\n",
       "      <td>Single Family Residential</td>\n",
       "      <td>3358 Wardlaw St</td>\n",
       "      <td>Las Vegas</td>\n",
       "      <td>89117</td>\n",
       "      <td>400000</td>\n",
       "      <td>4.0</td>\n",
       "      <td>3.00</td>\n",
       "      <td>Cimarron Village #2-Lewis Homes</td>\n",
       "      <td>1883.0</td>\n",
       "      <td>3920.0</td>\n",
       "      <td>1995.0</td>\n",
       "      <td>44.0</td>\n",
       "      <td>212.0</td>\n",
       "      <td>NaN</td>\n",
       "      <td>36.128126</td>\n",
       "      <td>-115.263408</td>\n",
       "    </tr>\n",
       "    <tr>\n",
       "      <th>2</th>\n",
       "      <td>Single Family Residential</td>\n",
       "      <td>3367 Ceremony Dr</td>\n",
       "      <td>Las Vegas</td>\n",
       "      <td>89117</td>\n",
       "      <td>339000</td>\n",
       "      <td>4.0</td>\n",
       "      <td>2.50</td>\n",
       "      <td>NaN</td>\n",
       "      <td>2230.0</td>\n",
       "      <td>4356.0</td>\n",
       "      <td>1995.0</td>\n",
       "      <td>NaN</td>\n",
       "      <td>152.0</td>\n",
       "      <td>NaN</td>\n",
       "      <td>36.127931</td>\n",
       "      <td>-115.263037</td>\n",
       "    </tr>\n",
       "    <tr>\n",
       "      <th>3</th>\n",
       "      <td>Single Family Residential</td>\n",
       "      <td>1680 City View Ct</td>\n",
       "      <td>Las Vegas</td>\n",
       "      <td>89117</td>\n",
       "      <td>818000</td>\n",
       "      <td>4.0</td>\n",
       "      <td>5.00</td>\n",
       "      <td>NaN</td>\n",
       "      <td>4863.0</td>\n",
       "      <td>20038.0</td>\n",
       "      <td>1993.0</td>\n",
       "      <td>NaN</td>\n",
       "      <td>168.0</td>\n",
       "      <td>NaN</td>\n",
       "      <td>36.151716</td>\n",
       "      <td>-115.268710</td>\n",
       "    </tr>\n",
       "    <tr>\n",
       "      <th>4</th>\n",
       "      <td>Townhouse</td>\n",
       "      <td>972 Prestwick St</td>\n",
       "      <td>Las Vegas</td>\n",
       "      <td>89145</td>\n",
       "      <td>335000</td>\n",
       "      <td>3.0</td>\n",
       "      <td>2.75</td>\n",
       "      <td>Queensridge Fairway Homes-Phase 3</td>\n",
       "      <td>1613.0</td>\n",
       "      <td>2614.0</td>\n",
       "      <td>2001.0</td>\n",
       "      <td>39.0</td>\n",
       "      <td>208.0</td>\n",
       "      <td>175.0</td>\n",
       "      <td>36.160917</td>\n",
       "      <td>-115.294868</td>\n",
       "    </tr>\n",
       "  </tbody>\n",
       "</table>\n",
       "</div>"
      ],
      "text/plain": [
       "               PROPERTY TYPE               ADDRESS       CITY  \\\n",
       "0  Single Family Residential  9329 Sienna Vista Dr  Las Vegas   \n",
       "1  Single Family Residential       3358 Wardlaw St  Las Vegas   \n",
       "2  Single Family Residential      3367 Ceremony Dr  Las Vegas   \n",
       "3  Single Family Residential     1680 City View Ct  Las Vegas   \n",
       "4                  Townhouse      972 Prestwick St  Las Vegas   \n",
       "\n",
       "   ZIP OR POSTAL CODE   PRICE  BEDS  BATHS                           LOCATION  \\\n",
       "0               89117  621500   4.0   2.50                       Sienna Ridge   \n",
       "1               89117  400000   4.0   3.00    Cimarron Village #2-Lewis Homes   \n",
       "2               89117  339000   4.0   2.50                                NaN   \n",
       "3               89117  818000   4.0   5.00                                NaN   \n",
       "4               89145  335000   3.0   2.75  Queensridge Fairway Homes-Phase 3   \n",
       "\n",
       "   SQUARE FEET  LOT SIZE  YEAR BUILT  DAYS ON MARKET  $/SQUARE FEET  \\\n",
       "0       2352.0    6098.0      1994.0            19.0          264.0   \n",
       "1       1883.0    3920.0      1995.0            44.0          212.0   \n",
       "2       2230.0    4356.0      1995.0             NaN          152.0   \n",
       "3       4863.0   20038.0      1993.0             NaN          168.0   \n",
       "4       1613.0    2614.0      2001.0            39.0          208.0   \n",
       "\n",
       "   HOA/MONTH   LATITUDE   LONGITUDE  \n",
       "0      146.0  36.154483 -115.297871  \n",
       "1        NaN  36.128126 -115.263408  \n",
       "2        NaN  36.127931 -115.263037  \n",
       "3        NaN  36.151716 -115.268710  \n",
       "4      175.0  36.160917 -115.294868  "
      ]
     },
     "execution_count": 7,
     "metadata": {},
     "output_type": "execute_result"
    }
   ],
   "source": [
    "df.head()"
   ]
  },
  {
   "cell_type": "markdown",
   "metadata": {},
   "source": [
    "# Cleaning up 'Property Type' column"
   ]
  },
  {
   "cell_type": "code",
   "execution_count": 8,
   "metadata": {},
   "outputs": [
    {
     "name": "stdout",
     "output_type": "stream",
     "text": [
      "['Single Family Residential' 'Townhouse' 'Multi-Family (2-4 Unit)'\n",
      " 'Condo/Co-op' 'Mobile/Manufactured Home' 'Other' 'Vacant Land'\n",
      " 'Multi-Family (5+ Unit)']\n"
     ]
    }
   ],
   "source": [
    "#look at the unique values in the 'Property Type' column, will break these out into columns later\n",
    "print(df['PROPERTY TYPE'].unique())"
   ]
  },
  {
   "cell_type": "code",
   "execution_count": 9,
   "metadata": {},
   "outputs": [
    {
     "data": {
      "text/plain": [
       "Single Family Residential    12110\n",
       "Condo/Co-op                   2554\n",
       "Townhouse                     1428\n",
       "Multi-Family (2-4 Unit)        206\n",
       "Mobile/Manufactured Home       172\n",
       "Other                           12\n",
       "Vacant Land                      4\n",
       "Multi-Family (5+ Unit)           3\n",
       "Name: PROPERTY TYPE, dtype: int64"
      ]
     },
     "execution_count": 9,
     "metadata": {},
     "output_type": "execute_result"
    }
   ],
   "source": [
    "df['PROPERTY TYPE'].value_counts()"
   ]
  },
  {
   "cell_type": "code",
   "execution_count": 10,
   "metadata": {},
   "outputs": [
    {
     "data": {
      "text/plain": [
       "Single Family Residential    12110\n",
       "Condo/Co-op                   2554\n",
       "Townhouse                     1428\n",
       "Name: PROPERTY TYPE, dtype: int64"
      ]
     },
     "execution_count": 10,
     "metadata": {},
     "output_type": "execute_result"
    }
   ],
   "source": [
    "#drop if 'Property Type' == 'Multi-Family (2-4 Unit)', 'Other', 'Vacant Land', 'Multi-Family (5+ Unit)'\n",
    "df = df[df['PROPERTY TYPE'] != 'Other']\n",
    "df = df[df['PROPERTY TYPE'] != 'Multi-Family (2-4 Unit)']\n",
    "df = df[df['PROPERTY TYPE'] != 'Vacant Land']\n",
    "df = df[df['PROPERTY TYPE'] != 'Multi-Family (5+ Unit)']\n",
    "df = df[df['PROPERTY TYPE'] != 'Mobile/Manufactured Home']\n",
    "\n",
    "df['PROPERTY TYPE'].value_counts()"
   ]
  },
  {
   "cell_type": "markdown",
   "metadata": {},
   "source": [
    "I'm thinking of binning Condo and Townhouse to lessen the number of features later on when I encode the Property Type column. To help me make a decision, I have pasted the definitions that RedFin uses for all 3 property types below (taken from the RedFin RealEstate Glossary available online at https://www.redfin.com/real-estate-glossary#S).\n",
    "\n",
    "Definition of Single Family Residence (SFR) - the most common type of home listed in the MLS. Also known as single family detached, this means the home is a stand-alone structure with its own lot intended for one family. Single family residences differ from condominiums, townhomes, cooperatives, and multi-family homes, which are all attached residences.\n",
    "\n",
    "Definition of Townhouse - a type of home that's usually constructed as a two- or three-story unit with a common wall or walls bordering the adjacent unit. The common form of ownership is similar to a condominium project, in that the property owner not only owns his or her respective unit, but also owns an undivided interest in any common area. Townhouse ownership sometimes differs from condominium ownership in that the townhouse owner owns the physical structure rather than just the airspace between the walls, floor and ceiling. However, in some areas \"townhouse\" can refer to the physical style of the structure rather than the form of ownership.\n",
    "\n",
    "Definition of Condominium - a unit that you own within a multi-unit complex such as an apartment building. While each condo is individually owned, the common spaces are collectively owned and shared by all the owners in the complex. Condo developments are managed by homeowners associations that collect monthly dues, maintain operations, and enforce policies. Condo buildings are different from co-ops. With a co-op, the homeowners own shares in the corporation that owns the building, rather than owning units themselves. Co-op owners receive the right to live in a specific unit and enjoy common spaces in accordance with a written lease agreement.\n",
    "\n",
    "\n",
    "Based on my research, I feel comfortable combining the Condo and Townhouse property types. The main difference between Condos/Townhouses and Single-Family Residences is that the Single-Family Residences are detached. Limiting the number of features will also help any model I choose to use later on. "
   ]
  },
  {
   "cell_type": "code",
   "execution_count": 11,
   "metadata": {
    "scrolled": false
   },
   "outputs": [
    {
     "data": {
      "text/html": [
       "<div>\n",
       "<style scoped>\n",
       "    .dataframe tbody tr th:only-of-type {\n",
       "        vertical-align: middle;\n",
       "    }\n",
       "\n",
       "    .dataframe tbody tr th {\n",
       "        vertical-align: top;\n",
       "    }\n",
       "\n",
       "    .dataframe thead th {\n",
       "        text-align: right;\n",
       "    }\n",
       "</style>\n",
       "<table border=\"1\" class=\"dataframe\">\n",
       "  <thead>\n",
       "    <tr style=\"text-align: right;\">\n",
       "      <th></th>\n",
       "      <th>ADDRESS</th>\n",
       "      <th>CITY</th>\n",
       "      <th>ZIP OR POSTAL CODE</th>\n",
       "      <th>PRICE</th>\n",
       "      <th>BEDS</th>\n",
       "      <th>BATHS</th>\n",
       "      <th>LOCATION</th>\n",
       "      <th>SQUARE FEET</th>\n",
       "      <th>LOT SIZE</th>\n",
       "      <th>YEAR BUILT</th>\n",
       "      <th>DAYS ON MARKET</th>\n",
       "      <th>$/SQUARE FEET</th>\n",
       "      <th>HOA/MONTH</th>\n",
       "      <th>LATITUDE</th>\n",
       "      <th>LONGITUDE</th>\n",
       "      <th>property_type</th>\n",
       "    </tr>\n",
       "  </thead>\n",
       "  <tbody>\n",
       "    <tr>\n",
       "      <th>0</th>\n",
       "      <td>9329 Sienna Vista Dr</td>\n",
       "      <td>Las Vegas</td>\n",
       "      <td>89117</td>\n",
       "      <td>621500</td>\n",
       "      <td>4.0</td>\n",
       "      <td>2.50</td>\n",
       "      <td>Sienna Ridge</td>\n",
       "      <td>2352.0</td>\n",
       "      <td>6098.0</td>\n",
       "      <td>1994.0</td>\n",
       "      <td>19.0</td>\n",
       "      <td>264.0</td>\n",
       "      <td>146.0</td>\n",
       "      <td>36.154483</td>\n",
       "      <td>-115.297871</td>\n",
       "      <td>SingleFamily</td>\n",
       "    </tr>\n",
       "    <tr>\n",
       "      <th>1</th>\n",
       "      <td>3358 Wardlaw St</td>\n",
       "      <td>Las Vegas</td>\n",
       "      <td>89117</td>\n",
       "      <td>400000</td>\n",
       "      <td>4.0</td>\n",
       "      <td>3.00</td>\n",
       "      <td>Cimarron Village #2-Lewis Homes</td>\n",
       "      <td>1883.0</td>\n",
       "      <td>3920.0</td>\n",
       "      <td>1995.0</td>\n",
       "      <td>44.0</td>\n",
       "      <td>212.0</td>\n",
       "      <td>NaN</td>\n",
       "      <td>36.128126</td>\n",
       "      <td>-115.263408</td>\n",
       "      <td>SingleFamily</td>\n",
       "    </tr>\n",
       "    <tr>\n",
       "      <th>2</th>\n",
       "      <td>3367 Ceremony Dr</td>\n",
       "      <td>Las Vegas</td>\n",
       "      <td>89117</td>\n",
       "      <td>339000</td>\n",
       "      <td>4.0</td>\n",
       "      <td>2.50</td>\n",
       "      <td>NaN</td>\n",
       "      <td>2230.0</td>\n",
       "      <td>4356.0</td>\n",
       "      <td>1995.0</td>\n",
       "      <td>NaN</td>\n",
       "      <td>152.0</td>\n",
       "      <td>NaN</td>\n",
       "      <td>36.127931</td>\n",
       "      <td>-115.263037</td>\n",
       "      <td>SingleFamily</td>\n",
       "    </tr>\n",
       "    <tr>\n",
       "      <th>3</th>\n",
       "      <td>1680 City View Ct</td>\n",
       "      <td>Las Vegas</td>\n",
       "      <td>89117</td>\n",
       "      <td>818000</td>\n",
       "      <td>4.0</td>\n",
       "      <td>5.00</td>\n",
       "      <td>NaN</td>\n",
       "      <td>4863.0</td>\n",
       "      <td>20038.0</td>\n",
       "      <td>1993.0</td>\n",
       "      <td>NaN</td>\n",
       "      <td>168.0</td>\n",
       "      <td>NaN</td>\n",
       "      <td>36.151716</td>\n",
       "      <td>-115.268710</td>\n",
       "      <td>SingleFamily</td>\n",
       "    </tr>\n",
       "    <tr>\n",
       "      <th>4</th>\n",
       "      <td>972 Prestwick St</td>\n",
       "      <td>Las Vegas</td>\n",
       "      <td>89145</td>\n",
       "      <td>335000</td>\n",
       "      <td>3.0</td>\n",
       "      <td>2.75</td>\n",
       "      <td>Queensridge Fairway Homes-Phase 3</td>\n",
       "      <td>1613.0</td>\n",
       "      <td>2614.0</td>\n",
       "      <td>2001.0</td>\n",
       "      <td>39.0</td>\n",
       "      <td>208.0</td>\n",
       "      <td>175.0</td>\n",
       "      <td>36.160917</td>\n",
       "      <td>-115.294868</td>\n",
       "      <td>Condo/Townhouse</td>\n",
       "    </tr>\n",
       "  </tbody>\n",
       "</table>\n",
       "</div>"
      ],
      "text/plain": [
       "                ADDRESS       CITY  ZIP OR POSTAL CODE   PRICE  BEDS  BATHS  \\\n",
       "0  9329 Sienna Vista Dr  Las Vegas               89117  621500   4.0   2.50   \n",
       "1       3358 Wardlaw St  Las Vegas               89117  400000   4.0   3.00   \n",
       "2      3367 Ceremony Dr  Las Vegas               89117  339000   4.0   2.50   \n",
       "3     1680 City View Ct  Las Vegas               89117  818000   4.0   5.00   \n",
       "4      972 Prestwick St  Las Vegas               89145  335000   3.0   2.75   \n",
       "\n",
       "                            LOCATION  SQUARE FEET  LOT SIZE  YEAR BUILT  \\\n",
       "0                       Sienna Ridge       2352.0    6098.0      1994.0   \n",
       "1    Cimarron Village #2-Lewis Homes       1883.0    3920.0      1995.0   \n",
       "2                                NaN       2230.0    4356.0      1995.0   \n",
       "3                                NaN       4863.0   20038.0      1993.0   \n",
       "4  Queensridge Fairway Homes-Phase 3       1613.0    2614.0      2001.0   \n",
       "\n",
       "   DAYS ON MARKET  $/SQUARE FEET  HOA/MONTH   LATITUDE   LONGITUDE  \\\n",
       "0            19.0          264.0      146.0  36.154483 -115.297871   \n",
       "1            44.0          212.0        NaN  36.128126 -115.263408   \n",
       "2             NaN          152.0        NaN  36.127931 -115.263037   \n",
       "3             NaN          168.0        NaN  36.151716 -115.268710   \n",
       "4            39.0          208.0      175.0  36.160917 -115.294868   \n",
       "\n",
       "     property_type  \n",
       "0     SingleFamily  \n",
       "1     SingleFamily  \n",
       "2     SingleFamily  \n",
       "3     SingleFamily  \n",
       "4  Condo/Townhouse  "
      ]
     },
     "execution_count": 11,
     "metadata": {},
     "output_type": "execute_result"
    }
   ],
   "source": [
    "#I'm going to bin Condo and Townhouse because they are similar property types and this will be helpful later on\n",
    "conditions = [\n",
    "    df['PROPERTY TYPE'].str.contains('Single Family Residential'),\n",
    "    df['PROPERTY TYPE'].str.contains('Condo/Co-op'),\n",
    "    df['PROPERTY TYPE'].str.contains('Townhouse')]\n",
    "choices = ['SingleFamily', 'Condo/Townhouse', 'Condo/Townhouse']\n",
    "df['property_type'] = np.select(conditions, choices)\n",
    "df = df.drop(columns=['PROPERTY TYPE'])\n",
    "df.head()"
   ]
  },
  {
   "cell_type": "markdown",
   "metadata": {},
   "source": [
    "# Dropping duplicate rows"
   ]
  },
  {
   "cell_type": "code",
   "execution_count": 12,
   "metadata": {},
   "outputs": [
    {
     "name": "stdout",
     "output_type": "stream",
     "text": [
      "<class 'pandas.core.frame.DataFrame'>\n",
      "Int64Index: 13515 entries, 0 to 157\n",
      "Data columns (total 16 columns):\n",
      " #   Column              Non-Null Count  Dtype  \n",
      "---  ------              --------------  -----  \n",
      " 0   ADDRESS             13514 non-null  object \n",
      " 1   CITY                13515 non-null  object \n",
      " 2   ZIP OR POSTAL CODE  13515 non-null  int64  \n",
      " 3   PRICE               13515 non-null  int64  \n",
      " 4   BEDS                13492 non-null  float64\n",
      " 5   BATHS               13492 non-null  float64\n",
      " 6   LOCATION            11991 non-null  object \n",
      " 7   SQUARE FEET         13497 non-null  float64\n",
      " 8   LOT SIZE            11928 non-null  float64\n",
      " 9   YEAR BUILT          13514 non-null  float64\n",
      " 10  DAYS ON MARKET      12174 non-null  float64\n",
      " 11  $/SQUARE FEET       13497 non-null  float64\n",
      " 12  HOA/MONTH           8920 non-null   float64\n",
      " 13  LATITUDE            13515 non-null  float64\n",
      " 14  LONGITUDE           13515 non-null  float64\n",
      " 15  property_type       13515 non-null  object \n",
      "dtypes: float64(10), int64(2), object(4)\n",
      "memory usage: 1.8+ MB\n"
     ]
    }
   ],
   "source": [
    "#drop the duplicate rows\n",
    "df.drop_duplicates(subset=['ADDRESS'], inplace=True)\n",
    "df.info()"
   ]
  },
  {
   "cell_type": "markdown",
   "metadata": {},
   "source": [
    "# Dealing with NaNs (Part 1)"
   ]
  },
  {
   "cell_type": "code",
   "execution_count": 13,
   "metadata": {},
   "outputs": [
    {
     "data": {
      "text/plain": [
       "ADDRESS                  1\n",
       "CITY                     0\n",
       "ZIP OR POSTAL CODE       0\n",
       "PRICE                    0\n",
       "BEDS                    23\n",
       "BATHS                   23\n",
       "LOCATION              1524\n",
       "SQUARE FEET             18\n",
       "LOT SIZE              1587\n",
       "YEAR BUILT               1\n",
       "DAYS ON MARKET        1341\n",
       "$/SQUARE FEET           18\n",
       "HOA/MONTH             4595\n",
       "LATITUDE                 0\n",
       "LONGITUDE                0\n",
       "property_type            0\n",
       "dtype: int64"
      ]
     },
     "execution_count": 13,
     "metadata": {},
     "output_type": "execute_result"
    }
   ],
   "source": [
    "#total nans in each column of the df, will use this information to determine how to address the nans\n",
    "df.isna().sum()"
   ]
  },
  {
   "cell_type": "code",
   "execution_count": 14,
   "metadata": {},
   "outputs": [],
   "source": [
    "#dealing with nans\n",
    "#dropping the 1 row with missing address\n",
    "df.dropna(subset=['ADDRESS'], inplace=True)"
   ]
  },
  {
   "cell_type": "code",
   "execution_count": 15,
   "metadata": {},
   "outputs": [
    {
     "data": {
      "text/plain": [
       "4899"
      ]
     },
     "execution_count": 15,
     "metadata": {},
     "output_type": "execute_result"
    }
   ],
   "source": [
    "#probably won't use the location, because zipcode is also representative of the location, location has too many unique values\n",
    "df.LOCATION.nunique()"
   ]
  },
  {
   "cell_type": "code",
   "execution_count": 16,
   "metadata": {},
   "outputs": [
    {
     "data": {
      "text/html": [
       "<div>\n",
       "<style scoped>\n",
       "    .dataframe tbody tr th:only-of-type {\n",
       "        vertical-align: middle;\n",
       "    }\n",
       "\n",
       "    .dataframe tbody tr th {\n",
       "        vertical-align: top;\n",
       "    }\n",
       "\n",
       "    .dataframe thead th {\n",
       "        text-align: right;\n",
       "    }\n",
       "</style>\n",
       "<table border=\"1\" class=\"dataframe\">\n",
       "  <thead>\n",
       "    <tr style=\"text-align: right;\">\n",
       "      <th></th>\n",
       "      <th>ADDRESS</th>\n",
       "      <th>CITY</th>\n",
       "      <th>ZIP OR POSTAL CODE</th>\n",
       "      <th>PRICE</th>\n",
       "      <th>BEDS</th>\n",
       "      <th>BATHS</th>\n",
       "      <th>SQUARE FEET</th>\n",
       "      <th>LOT SIZE</th>\n",
       "      <th>YEAR BUILT</th>\n",
       "      <th>DAYS ON MARKET</th>\n",
       "      <th>$/SQUARE FEET</th>\n",
       "      <th>HOA/MONTH</th>\n",
       "      <th>LATITUDE</th>\n",
       "      <th>LONGITUDE</th>\n",
       "      <th>property_type</th>\n",
       "    </tr>\n",
       "  </thead>\n",
       "  <tbody>\n",
       "    <tr>\n",
       "      <th>0</th>\n",
       "      <td>9329 Sienna Vista Dr</td>\n",
       "      <td>Las Vegas</td>\n",
       "      <td>89117</td>\n",
       "      <td>621500</td>\n",
       "      <td>4.0</td>\n",
       "      <td>2.50</td>\n",
       "      <td>2352.0</td>\n",
       "      <td>6098.0</td>\n",
       "      <td>1994.0</td>\n",
       "      <td>19.0</td>\n",
       "      <td>264.0</td>\n",
       "      <td>146.0</td>\n",
       "      <td>36.154483</td>\n",
       "      <td>-115.297871</td>\n",
       "      <td>SingleFamily</td>\n",
       "    </tr>\n",
       "    <tr>\n",
       "      <th>1</th>\n",
       "      <td>3358 Wardlaw St</td>\n",
       "      <td>Las Vegas</td>\n",
       "      <td>89117</td>\n",
       "      <td>400000</td>\n",
       "      <td>4.0</td>\n",
       "      <td>3.00</td>\n",
       "      <td>1883.0</td>\n",
       "      <td>3920.0</td>\n",
       "      <td>1995.0</td>\n",
       "      <td>44.0</td>\n",
       "      <td>212.0</td>\n",
       "      <td>NaN</td>\n",
       "      <td>36.128126</td>\n",
       "      <td>-115.263408</td>\n",
       "      <td>SingleFamily</td>\n",
       "    </tr>\n",
       "    <tr>\n",
       "      <th>2</th>\n",
       "      <td>3367 Ceremony Dr</td>\n",
       "      <td>Las Vegas</td>\n",
       "      <td>89117</td>\n",
       "      <td>339000</td>\n",
       "      <td>4.0</td>\n",
       "      <td>2.50</td>\n",
       "      <td>2230.0</td>\n",
       "      <td>4356.0</td>\n",
       "      <td>1995.0</td>\n",
       "      <td>NaN</td>\n",
       "      <td>152.0</td>\n",
       "      <td>NaN</td>\n",
       "      <td>36.127931</td>\n",
       "      <td>-115.263037</td>\n",
       "      <td>SingleFamily</td>\n",
       "    </tr>\n",
       "    <tr>\n",
       "      <th>3</th>\n",
       "      <td>1680 City View Ct</td>\n",
       "      <td>Las Vegas</td>\n",
       "      <td>89117</td>\n",
       "      <td>818000</td>\n",
       "      <td>4.0</td>\n",
       "      <td>5.00</td>\n",
       "      <td>4863.0</td>\n",
       "      <td>20038.0</td>\n",
       "      <td>1993.0</td>\n",
       "      <td>NaN</td>\n",
       "      <td>168.0</td>\n",
       "      <td>NaN</td>\n",
       "      <td>36.151716</td>\n",
       "      <td>-115.268710</td>\n",
       "      <td>SingleFamily</td>\n",
       "    </tr>\n",
       "    <tr>\n",
       "      <th>4</th>\n",
       "      <td>972 Prestwick St</td>\n",
       "      <td>Las Vegas</td>\n",
       "      <td>89145</td>\n",
       "      <td>335000</td>\n",
       "      <td>3.0</td>\n",
       "      <td>2.75</td>\n",
       "      <td>1613.0</td>\n",
       "      <td>2614.0</td>\n",
       "      <td>2001.0</td>\n",
       "      <td>39.0</td>\n",
       "      <td>208.0</td>\n",
       "      <td>175.0</td>\n",
       "      <td>36.160917</td>\n",
       "      <td>-115.294868</td>\n",
       "      <td>Condo/Townhouse</td>\n",
       "    </tr>\n",
       "  </tbody>\n",
       "</table>\n",
       "</div>"
      ],
      "text/plain": [
       "                ADDRESS       CITY  ZIP OR POSTAL CODE   PRICE  BEDS  BATHS  \\\n",
       "0  9329 Sienna Vista Dr  Las Vegas               89117  621500   4.0   2.50   \n",
       "1       3358 Wardlaw St  Las Vegas               89117  400000   4.0   3.00   \n",
       "2      3367 Ceremony Dr  Las Vegas               89117  339000   4.0   2.50   \n",
       "3     1680 City View Ct  Las Vegas               89117  818000   4.0   5.00   \n",
       "4      972 Prestwick St  Las Vegas               89145  335000   3.0   2.75   \n",
       "\n",
       "   SQUARE FEET  LOT SIZE  YEAR BUILT  DAYS ON MARKET  $/SQUARE FEET  \\\n",
       "0       2352.0    6098.0      1994.0            19.0          264.0   \n",
       "1       1883.0    3920.0      1995.0            44.0          212.0   \n",
       "2       2230.0    4356.0      1995.0             NaN          152.0   \n",
       "3       4863.0   20038.0      1993.0             NaN          168.0   \n",
       "4       1613.0    2614.0      2001.0            39.0          208.0   \n",
       "\n",
       "   HOA/MONTH   LATITUDE   LONGITUDE    property_type  \n",
       "0      146.0  36.154483 -115.297871     SingleFamily  \n",
       "1        NaN  36.128126 -115.263408     SingleFamily  \n",
       "2        NaN  36.127931 -115.263037     SingleFamily  \n",
       "3        NaN  36.151716 -115.268710     SingleFamily  \n",
       "4      175.0  36.160917 -115.294868  Condo/Townhouse  "
      ]
     },
     "execution_count": 16,
     "metadata": {},
     "output_type": "execute_result"
    }
   ],
   "source": [
    "#I'm going to drop the location column. I don't think its interpretable because of the number of unique values. \n",
    "df = df.drop(columns=['LOCATION'])\n",
    "df.head()"
   ]
  },
  {
   "cell_type": "code",
   "execution_count": 17,
   "metadata": {},
   "outputs": [
    {
     "data": {
      "text/plain": [
       "ADDRESS                  0\n",
       "CITY                     0\n",
       "ZIP OR POSTAL CODE       0\n",
       "PRICE                    0\n",
       "BEDS                    23\n",
       "BATHS                   23\n",
       "SQUARE FEET             18\n",
       "LOT SIZE              1587\n",
       "YEAR BUILT               1\n",
       "DAYS ON MARKET        1340\n",
       "$/SQUARE FEET           18\n",
       "HOA/MONTH             4594\n",
       "LATITUDE                 0\n",
       "LONGITUDE                0\n",
       "property_type            0\n",
       "dtype: int64"
      ]
     },
     "execution_count": 17,
     "metadata": {},
     "output_type": "execute_result"
    }
   ],
   "source": [
    "#evaluating progress\n",
    "df.isna().sum()"
   ]
  },
  {
   "cell_type": "code",
   "execution_count": 18,
   "metadata": {},
   "outputs": [
    {
     "data": {
      "text/html": [
       "<div>\n",
       "<style scoped>\n",
       "    .dataframe tbody tr th:only-of-type {\n",
       "        vertical-align: middle;\n",
       "    }\n",
       "\n",
       "    .dataframe tbody tr th {\n",
       "        vertical-align: top;\n",
       "    }\n",
       "\n",
       "    .dataframe thead th {\n",
       "        text-align: right;\n",
       "    }\n",
       "</style>\n",
       "<table border=\"1\" class=\"dataframe\">\n",
       "  <thead>\n",
       "    <tr style=\"text-align: right;\">\n",
       "      <th></th>\n",
       "      <th>ADDRESS</th>\n",
       "      <th>CITY</th>\n",
       "      <th>ZIP OR POSTAL CODE</th>\n",
       "      <th>PRICE</th>\n",
       "      <th>BEDS</th>\n",
       "      <th>BATHS</th>\n",
       "      <th>SQUARE FEET</th>\n",
       "      <th>LOT SIZE</th>\n",
       "      <th>YEAR BUILT</th>\n",
       "      <th>DAYS ON MARKET</th>\n",
       "      <th>$/SQUARE FEET</th>\n",
       "      <th>HOA/MONTH</th>\n",
       "      <th>LATITUDE</th>\n",
       "      <th>LONGITUDE</th>\n",
       "      <th>property_type</th>\n",
       "    </tr>\n",
       "  </thead>\n",
       "  <tbody>\n",
       "    <tr>\n",
       "      <th>132</th>\n",
       "      <td>1843 Jefferson St</td>\n",
       "      <td>North Las Vegas</td>\n",
       "      <td>89030</td>\n",
       "      <td>575000</td>\n",
       "      <td>NaN</td>\n",
       "      <td>NaN</td>\n",
       "      <td>NaN</td>\n",
       "      <td>NaN</td>\n",
       "      <td>1979.0</td>\n",
       "      <td>NaN</td>\n",
       "      <td>NaN</td>\n",
       "      <td>NaN</td>\n",
       "      <td>36.193700</td>\n",
       "      <td>-115.126729</td>\n",
       "      <td>Condo/Townhouse</td>\n",
       "    </tr>\n",
       "    <tr>\n",
       "      <th>62</th>\n",
       "      <td>5658 S Chippewa St</td>\n",
       "      <td>Pahrump</td>\n",
       "      <td>89061</td>\n",
       "      <td>243225</td>\n",
       "      <td>NaN</td>\n",
       "      <td>NaN</td>\n",
       "      <td>NaN</td>\n",
       "      <td>8276.0</td>\n",
       "      <td>NaN</td>\n",
       "      <td>NaN</td>\n",
       "      <td>NaN</td>\n",
       "      <td>NaN</td>\n",
       "      <td>36.136599</td>\n",
       "      <td>-115.948433</td>\n",
       "      <td>SingleFamily</td>\n",
       "    </tr>\n",
       "    <tr>\n",
       "      <th>31</th>\n",
       "      <td>321 N 9th St</td>\n",
       "      <td>Las Vegas</td>\n",
       "      <td>89101</td>\n",
       "      <td>1300000</td>\n",
       "      <td>NaN</td>\n",
       "      <td>NaN</td>\n",
       "      <td>NaN</td>\n",
       "      <td>NaN</td>\n",
       "      <td>2002.0</td>\n",
       "      <td>NaN</td>\n",
       "      <td>NaN</td>\n",
       "      <td>NaN</td>\n",
       "      <td>36.170543</td>\n",
       "      <td>-115.134466</td>\n",
       "      <td>Condo/Townhouse</td>\n",
       "    </tr>\n",
       "    <tr>\n",
       "      <th>64</th>\n",
       "      <td>2213 Sunrise Ave</td>\n",
       "      <td>Las Vegas</td>\n",
       "      <td>89101</td>\n",
       "      <td>800000</td>\n",
       "      <td>NaN</td>\n",
       "      <td>NaN</td>\n",
       "      <td>NaN</td>\n",
       "      <td>NaN</td>\n",
       "      <td>1957.0</td>\n",
       "      <td>NaN</td>\n",
       "      <td>NaN</td>\n",
       "      <td>NaN</td>\n",
       "      <td>36.162472</td>\n",
       "      <td>-115.118622</td>\n",
       "      <td>Condo/Townhouse</td>\n",
       "    </tr>\n",
       "    <tr>\n",
       "      <th>88</th>\n",
       "      <td>225 Flower Ave</td>\n",
       "      <td>Las Vegas</td>\n",
       "      <td>89101</td>\n",
       "      <td>3865000</td>\n",
       "      <td>NaN</td>\n",
       "      <td>NaN</td>\n",
       "      <td>NaN</td>\n",
       "      <td>NaN</td>\n",
       "      <td>1963.0</td>\n",
       "      <td>NaN</td>\n",
       "      <td>NaN</td>\n",
       "      <td>NaN</td>\n",
       "      <td>36.165665</td>\n",
       "      <td>-115.117437</td>\n",
       "      <td>Condo/Townhouse</td>\n",
       "    </tr>\n",
       "    <tr>\n",
       "      <th>100</th>\n",
       "      <td>2640 Marlin Ave</td>\n",
       "      <td>Las Vegas</td>\n",
       "      <td>89101</td>\n",
       "      <td>11040000</td>\n",
       "      <td>NaN</td>\n",
       "      <td>NaN</td>\n",
       "      <td>NaN</td>\n",
       "      <td>NaN</td>\n",
       "      <td>1962.0</td>\n",
       "      <td>NaN</td>\n",
       "      <td>NaN</td>\n",
       "      <td>NaN</td>\n",
       "      <td>36.167164</td>\n",
       "      <td>-115.113550</td>\n",
       "      <td>Condo/Townhouse</td>\n",
       "    </tr>\n",
       "    <tr>\n",
       "      <th>127</th>\n",
       "      <td>2215 Stewart Ave</td>\n",
       "      <td>Las Vegas</td>\n",
       "      <td>89101</td>\n",
       "      <td>490000</td>\n",
       "      <td>NaN</td>\n",
       "      <td>NaN</td>\n",
       "      <td>NaN</td>\n",
       "      <td>NaN</td>\n",
       "      <td>1978.0</td>\n",
       "      <td>NaN</td>\n",
       "      <td>NaN</td>\n",
       "      <td>NaN</td>\n",
       "      <td>36.166818</td>\n",
       "      <td>-115.119016</td>\n",
       "      <td>Condo/Townhouse</td>\n",
       "    </tr>\n",
       "    <tr>\n",
       "      <th>19</th>\n",
       "      <td>239 W New York Ave</td>\n",
       "      <td>Las Vegas</td>\n",
       "      <td>89102</td>\n",
       "      <td>600000</td>\n",
       "      <td>NaN</td>\n",
       "      <td>NaN</td>\n",
       "      <td>NaN</td>\n",
       "      <td>NaN</td>\n",
       "      <td>1961.0</td>\n",
       "      <td>NaN</td>\n",
       "      <td>NaN</td>\n",
       "      <td>NaN</td>\n",
       "      <td>36.150744</td>\n",
       "      <td>-115.159527</td>\n",
       "      <td>Condo/Townhouse</td>\n",
       "    </tr>\n",
       "    <tr>\n",
       "      <th>70</th>\n",
       "      <td>201 W St Louis Ave</td>\n",
       "      <td>Las Vegas</td>\n",
       "      <td>89102</td>\n",
       "      <td>293425</td>\n",
       "      <td>NaN</td>\n",
       "      <td>NaN</td>\n",
       "      <td>NaN</td>\n",
       "      <td>NaN</td>\n",
       "      <td>1954.0</td>\n",
       "      <td>NaN</td>\n",
       "      <td>NaN</td>\n",
       "      <td>NaN</td>\n",
       "      <td>36.148058</td>\n",
       "      <td>-115.158383</td>\n",
       "      <td>Condo/Townhouse</td>\n",
       "    </tr>\n",
       "    <tr>\n",
       "      <th>20</th>\n",
       "      <td>2308 Clifford Ave</td>\n",
       "      <td>Las Vegas</td>\n",
       "      <td>89104</td>\n",
       "      <td>544385</td>\n",
       "      <td>NaN</td>\n",
       "      <td>NaN</td>\n",
       "      <td>NaN</td>\n",
       "      <td>NaN</td>\n",
       "      <td>1962.0</td>\n",
       "      <td>NaN</td>\n",
       "      <td>NaN</td>\n",
       "      <td>NaN</td>\n",
       "      <td>36.155311</td>\n",
       "      <td>-115.116051</td>\n",
       "      <td>Condo/Townhouse</td>\n",
       "    </tr>\n",
       "    <tr>\n",
       "      <th>127</th>\n",
       "      <td>2565 Lynnwood St</td>\n",
       "      <td>Las Vegas</td>\n",
       "      <td>89109</td>\n",
       "      <td>1950000</td>\n",
       "      <td>NaN</td>\n",
       "      <td>NaN</td>\n",
       "      <td>NaN</td>\n",
       "      <td>NaN</td>\n",
       "      <td>1962.0</td>\n",
       "      <td>NaN</td>\n",
       "      <td>NaN</td>\n",
       "      <td>NaN</td>\n",
       "      <td>36.142643</td>\n",
       "      <td>-115.149961</td>\n",
       "      <td>Condo/Townhouse</td>\n",
       "    </tr>\n",
       "    <tr>\n",
       "      <th>6</th>\n",
       "      <td>2645 S Van Patten St</td>\n",
       "      <td>Las Vegas</td>\n",
       "      <td>89109</td>\n",
       "      <td>450000</td>\n",
       "      <td>NaN</td>\n",
       "      <td>NaN</td>\n",
       "      <td>NaN</td>\n",
       "      <td>NaN</td>\n",
       "      <td>1963.0</td>\n",
       "      <td>NaN</td>\n",
       "      <td>NaN</td>\n",
       "      <td>NaN</td>\n",
       "      <td>36.141129</td>\n",
       "      <td>-115.148641</td>\n",
       "      <td>Condo/Townhouse</td>\n",
       "    </tr>\n",
       "    <tr>\n",
       "      <th>65</th>\n",
       "      <td>2566 Sherwood St</td>\n",
       "      <td>Las Vegas</td>\n",
       "      <td>89109</td>\n",
       "      <td>1700000</td>\n",
       "      <td>NaN</td>\n",
       "      <td>NaN</td>\n",
       "      <td>NaN</td>\n",
       "      <td>NaN</td>\n",
       "      <td>1962.0</td>\n",
       "      <td>NaN</td>\n",
       "      <td>NaN</td>\n",
       "      <td>NaN</td>\n",
       "      <td>36.142676</td>\n",
       "      <td>-115.146881</td>\n",
       "      <td>Condo/Townhouse</td>\n",
       "    </tr>\n",
       "    <tr>\n",
       "      <th>41</th>\n",
       "      <td>6445 S Tenaya Way #120</td>\n",
       "      <td>Las Vegas</td>\n",
       "      <td>89113</td>\n",
       "      <td>1168000</td>\n",
       "      <td>NaN</td>\n",
       "      <td>NaN</td>\n",
       "      <td>NaN</td>\n",
       "      <td>NaN</td>\n",
       "      <td>2009.0</td>\n",
       "      <td>NaN</td>\n",
       "      <td>NaN</td>\n",
       "      <td>NaN</td>\n",
       "      <td>36.071371</td>\n",
       "      <td>-115.251994</td>\n",
       "      <td>Condo/Townhouse</td>\n",
       "    </tr>\n",
       "    <tr>\n",
       "      <th>50</th>\n",
       "      <td>6405 S Tenaya Way #110</td>\n",
       "      <td>Las Vegas</td>\n",
       "      <td>89113</td>\n",
       "      <td>1198080</td>\n",
       "      <td>NaN</td>\n",
       "      <td>NaN</td>\n",
       "      <td>NaN</td>\n",
       "      <td>NaN</td>\n",
       "      <td>2009.0</td>\n",
       "      <td>NaN</td>\n",
       "      <td>NaN</td>\n",
       "      <td>NaN</td>\n",
       "      <td>36.071810</td>\n",
       "      <td>-115.252178</td>\n",
       "      <td>Condo/Townhouse</td>\n",
       "    </tr>\n",
       "    <tr>\n",
       "      <th>66</th>\n",
       "      <td>239 W Cleveland Ave</td>\n",
       "      <td>Las Vegas</td>\n",
       "      <td>89102</td>\n",
       "      <td>615000</td>\n",
       "      <td>NaN</td>\n",
       "      <td>NaN</td>\n",
       "      <td>NaN</td>\n",
       "      <td>NaN</td>\n",
       "      <td>1957.0</td>\n",
       "      <td>NaN</td>\n",
       "      <td>NaN</td>\n",
       "      <td>NaN</td>\n",
       "      <td>36.145429</td>\n",
       "      <td>-115.160175</td>\n",
       "      <td>Condo/Townhouse</td>\n",
       "    </tr>\n",
       "    <tr>\n",
       "      <th>28</th>\n",
       "      <td>1871 N Walnut Rd</td>\n",
       "      <td>Las Vegas</td>\n",
       "      <td>89115</td>\n",
       "      <td>751000</td>\n",
       "      <td>NaN</td>\n",
       "      <td>NaN</td>\n",
       "      <td>NaN</td>\n",
       "      <td>NaN</td>\n",
       "      <td>1969.0</td>\n",
       "      <td>NaN</td>\n",
       "      <td>NaN</td>\n",
       "      <td>NaN</td>\n",
       "      <td>36.193629</td>\n",
       "      <td>-115.089667</td>\n",
       "      <td>Condo/Townhouse</td>\n",
       "    </tr>\n",
       "    <tr>\n",
       "      <th>51</th>\n",
       "      <td>1541 E Harmon Ave</td>\n",
       "      <td>Las Vegas</td>\n",
       "      <td>89119</td>\n",
       "      <td>1500000</td>\n",
       "      <td>NaN</td>\n",
       "      <td>NaN</td>\n",
       "      <td>NaN</td>\n",
       "      <td>NaN</td>\n",
       "      <td>1973.0</td>\n",
       "      <td>NaN</td>\n",
       "      <td>NaN</td>\n",
       "      <td>NaN</td>\n",
       "      <td>36.107332</td>\n",
       "      <td>-115.132451</td>\n",
       "      <td>Condo/Townhouse</td>\n",
       "    </tr>\n",
       "  </tbody>\n",
       "</table>\n",
       "</div>"
      ],
      "text/plain": [
       "                    ADDRESS             CITY  ZIP OR POSTAL CODE     PRICE  \\\n",
       "132       1843 Jefferson St  North Las Vegas               89030    575000   \n",
       "62       5658 S Chippewa St          Pahrump               89061    243225   \n",
       "31             321 N 9th St        Las Vegas               89101   1300000   \n",
       "64         2213 Sunrise Ave        Las Vegas               89101    800000   \n",
       "88           225 Flower Ave        Las Vegas               89101   3865000   \n",
       "100         2640 Marlin Ave        Las Vegas               89101  11040000   \n",
       "127        2215 Stewart Ave        Las Vegas               89101    490000   \n",
       "19       239 W New York Ave        Las Vegas               89102    600000   \n",
       "70       201 W St Louis Ave        Las Vegas               89102    293425   \n",
       "20        2308 Clifford Ave        Las Vegas               89104    544385   \n",
       "127        2565 Lynnwood St        Las Vegas               89109   1950000   \n",
       "6      2645 S Van Patten St        Las Vegas               89109    450000   \n",
       "65         2566 Sherwood St        Las Vegas               89109   1700000   \n",
       "41   6445 S Tenaya Way #120        Las Vegas               89113   1168000   \n",
       "50   6405 S Tenaya Way #110        Las Vegas               89113   1198080   \n",
       "66      239 W Cleveland Ave        Las Vegas               89102    615000   \n",
       "28         1871 N Walnut Rd        Las Vegas               89115    751000   \n",
       "51        1541 E Harmon Ave        Las Vegas               89119   1500000   \n",
       "\n",
       "     BEDS  BATHS  SQUARE FEET  LOT SIZE  YEAR BUILT  DAYS ON MARKET  \\\n",
       "132   NaN    NaN          NaN       NaN      1979.0             NaN   \n",
       "62    NaN    NaN          NaN    8276.0         NaN             NaN   \n",
       "31    NaN    NaN          NaN       NaN      2002.0             NaN   \n",
       "64    NaN    NaN          NaN       NaN      1957.0             NaN   \n",
       "88    NaN    NaN          NaN       NaN      1963.0             NaN   \n",
       "100   NaN    NaN          NaN       NaN      1962.0             NaN   \n",
       "127   NaN    NaN          NaN       NaN      1978.0             NaN   \n",
       "19    NaN    NaN          NaN       NaN      1961.0             NaN   \n",
       "70    NaN    NaN          NaN       NaN      1954.0             NaN   \n",
       "20    NaN    NaN          NaN       NaN      1962.0             NaN   \n",
       "127   NaN    NaN          NaN       NaN      1962.0             NaN   \n",
       "6     NaN    NaN          NaN       NaN      1963.0             NaN   \n",
       "65    NaN    NaN          NaN       NaN      1962.0             NaN   \n",
       "41    NaN    NaN          NaN       NaN      2009.0             NaN   \n",
       "50    NaN    NaN          NaN       NaN      2009.0             NaN   \n",
       "66    NaN    NaN          NaN       NaN      1957.0             NaN   \n",
       "28    NaN    NaN          NaN       NaN      1969.0             NaN   \n",
       "51    NaN    NaN          NaN       NaN      1973.0             NaN   \n",
       "\n",
       "     $/SQUARE FEET  HOA/MONTH   LATITUDE   LONGITUDE    property_type  \n",
       "132            NaN        NaN  36.193700 -115.126729  Condo/Townhouse  \n",
       "62             NaN        NaN  36.136599 -115.948433     SingleFamily  \n",
       "31             NaN        NaN  36.170543 -115.134466  Condo/Townhouse  \n",
       "64             NaN        NaN  36.162472 -115.118622  Condo/Townhouse  \n",
       "88             NaN        NaN  36.165665 -115.117437  Condo/Townhouse  \n",
       "100            NaN        NaN  36.167164 -115.113550  Condo/Townhouse  \n",
       "127            NaN        NaN  36.166818 -115.119016  Condo/Townhouse  \n",
       "19             NaN        NaN  36.150744 -115.159527  Condo/Townhouse  \n",
       "70             NaN        NaN  36.148058 -115.158383  Condo/Townhouse  \n",
       "20             NaN        NaN  36.155311 -115.116051  Condo/Townhouse  \n",
       "127            NaN        NaN  36.142643 -115.149961  Condo/Townhouse  \n",
       "6              NaN        NaN  36.141129 -115.148641  Condo/Townhouse  \n",
       "65             NaN        NaN  36.142676 -115.146881  Condo/Townhouse  \n",
       "41             NaN        NaN  36.071371 -115.251994  Condo/Townhouse  \n",
       "50             NaN        NaN  36.071810 -115.252178  Condo/Townhouse  \n",
       "66             NaN        NaN  36.145429 -115.160175  Condo/Townhouse  \n",
       "28             NaN        NaN  36.193629 -115.089667  Condo/Townhouse  \n",
       "51             NaN        NaN  36.107332 -115.132451  Condo/Townhouse  "
      ]
     },
     "execution_count": 18,
     "metadata": {},
     "output_type": "execute_result"
    }
   ],
   "source": [
    "df[df['SQUARE FEET'].isna()]"
   ]
  },
  {
   "cell_type": "code",
   "execution_count": 19,
   "metadata": {},
   "outputs": [],
   "source": [
    "#the rows with nans in 'Square Feet' column also have a lot of other missing data, so I've decided to drop these records altogether\n",
    "df.dropna(subset=['SQUARE FEET'], inplace=True)"
   ]
  },
  {
   "cell_type": "code",
   "execution_count": 20,
   "metadata": {},
   "outputs": [
    {
     "data": {
      "text/plain": [
       "ADDRESS                  0\n",
       "CITY                     0\n",
       "ZIP OR POSTAL CODE       0\n",
       "PRICE                    0\n",
       "BEDS                     5\n",
       "BATHS                    5\n",
       "SQUARE FEET              0\n",
       "LOT SIZE              1570\n",
       "YEAR BUILT               0\n",
       "DAYS ON MARKET        1322\n",
       "$/SQUARE FEET            0\n",
       "HOA/MONTH             4576\n",
       "LATITUDE                 0\n",
       "LONGITUDE                0\n",
       "property_type            0\n",
       "dtype: int64"
      ]
     },
     "execution_count": 20,
     "metadata": {},
     "output_type": "execute_result"
    }
   ],
   "source": [
    "df.isna().sum()"
   ]
  },
  {
   "cell_type": "code",
   "execution_count": 21,
   "metadata": {},
   "outputs": [
    {
     "data": {
      "text/plain": [
       "3.0     5718\n",
       "4.0     3347\n",
       "2.0     2767\n",
       "5.0      977\n",
       "1.0      429\n",
       "6.0      150\n",
       "0.0       70\n",
       "7.0       21\n",
       "8.0        7\n",
       "9.0        1\n",
       "10.0       1\n",
       "Name: BEDS, dtype: int64"
      ]
     },
     "execution_count": 21,
     "metadata": {},
     "output_type": "execute_result"
    }
   ],
   "source": [
    "#I'm also dropping all rows with nans in the 'BEDS' or 'BATHS' column. Just based on intiution I think these will be problematic later.\n",
    "df.dropna(subset=['BEDS', 'BATHS'], inplace=True)\n",
    "#checking for outliers/mistakes in listing\n",
    "df.BEDS.value_counts()"
   ]
  },
  {
   "cell_type": "code",
   "execution_count": 22,
   "metadata": {},
   "outputs": [
    {
     "data": {
      "text/plain": [
       "2.00     4164\n",
       "2.50     3715\n",
       "3.00     1218\n",
       "1.75     1107\n",
       "1.00      660\n",
       "2.75      577\n",
       "3.50      557\n",
       "2.25      330\n",
       "1.50      235\n",
       "4.50      228\n",
       "4.00      173\n",
       "3.25      157\n",
       "3.75       89\n",
       "4.25       55\n",
       "5.50       51\n",
       "5.00       38\n",
       "5.25       24\n",
       "6.00       19\n",
       "0.75       17\n",
       "6.50       15\n",
       "4.75       13\n",
       "7.50        8\n",
       "6.25        7\n",
       "5.75        7\n",
       "1.25        5\n",
       "7.00        5\n",
       "7.25        3\n",
       "7.75        3\n",
       "6.75        2\n",
       "8.25        2\n",
       "0.50        1\n",
       "10.75       1\n",
       "10.50       1\n",
       "8.75        1\n",
       "Name: BATHS, dtype: int64"
      ]
     },
     "execution_count": 22,
     "metadata": {},
     "output_type": "execute_result"
    }
   ],
   "source": [
    "#checking for outliers/mistakes in listing\n",
    "df.BATHS.value_counts()"
   ]
  },
  {
   "cell_type": "code",
   "execution_count": 23,
   "metadata": {},
   "outputs": [
    {
     "data": {
      "text/plain": [
       "ADDRESS                  0\n",
       "CITY                     0\n",
       "ZIP OR POSTAL CODE       0\n",
       "PRICE                    0\n",
       "BEDS                     0\n",
       "BATHS                    0\n",
       "SQUARE FEET              0\n",
       "LOT SIZE              1565\n",
       "YEAR BUILT               0\n",
       "DAYS ON MARKET        1317\n",
       "$/SQUARE FEET            0\n",
       "HOA/MONTH             4570\n",
       "LATITUDE                 0\n",
       "LONGITUDE                0\n",
       "property_type            0\n",
       "dtype: int64"
      ]
     },
     "execution_count": 23,
     "metadata": {},
     "output_type": "execute_result"
    }
   ],
   "source": [
    "df.isna().sum()"
   ]
  },
  {
   "cell_type": "markdown",
   "metadata": {},
   "source": [
    "# Cleaning 'City' column"
   ]
  },
  {
   "cell_type": "code",
   "execution_count": 24,
   "metadata": {},
   "outputs": [
    {
     "data": {
      "text/plain": [
       "Las Vegas           9432\n",
       "Henderson           2273\n",
       "North Las Vegas     1265\n",
       "Mesquite             203\n",
       "Boulder City         121\n",
       "Laughlin              79\n",
       "Pahrump               57\n",
       "Logandale             13\n",
       "Indian Springs         8\n",
       "Overton                8\n",
       "Bunkerville            5\n",
       "Mount Charleston       4\n",
       "Enterprise             2\n",
       "Moapa                  2\n",
       "Blue Diamond           2\n",
       "BUNKERVILLE            2\n",
       "Mt Charleston          2\n",
       "Goodsprings            2\n",
       "Moapa Valley           2\n",
       "HENDERSON              1\n",
       "Searchlight            1\n",
       "Jean                   1\n",
       "Cold Creek             1\n",
       "Sandy Valley           1\n",
       "LAS VEGAS              1\n",
       "Name: CITY, dtype: int64"
      ]
     },
     "execution_count": 24,
     "metadata": {},
     "output_type": "execute_result"
    }
   ],
   "source": [
    "#checking for duplicates/name issues (example: Las Vegas vs. LAS VEGAS)\n",
    "df['CITY'].value_counts()"
   ]
  },
  {
   "cell_type": "code",
   "execution_count": 25,
   "metadata": {},
   "outputs": [
    {
     "data": {
      "text/plain": [
       "Las Vegas          9433\n",
       "Henderson          2274\n",
       "North Las Vegas    1265\n",
       "Boulder City        121\n",
       "Blue Diamond          2\n",
       "Enterprise            2\n",
       "Name: CITY, dtype: int64"
      ]
     },
     "execution_count": 25,
     "metadata": {},
     "output_type": "execute_result"
    }
   ],
   "source": [
    "#standardizing city names and limiting cities to Las Vegas metro area\n",
    "df['CITY'].replace(to_replace=['LAS VEGAS', 'HENDERSON'], value=['Las Vegas', 'Henderson'], inplace=True)\n",
    "cities_keep = ['Las Vegas', 'Henderson', 'North Las Vegas', 'Boulder City', 'Blue Diamond', 'Enterprise']\n",
    "df = df[df['CITY'].isin(cities_keep)]\n",
    "df['CITY'].value_counts()"
   ]
  },
  {
   "cell_type": "markdown",
   "metadata": {},
   "source": [
    "# Inspecting data"
   ]
  },
  {
   "cell_type": "code",
   "execution_count": 26,
   "metadata": {},
   "outputs": [
    {
     "data": {
      "image/png": "[encoded data removed]",
      "text/plain": [
       "<Figure size 1080x720 with 12 Axes>"
      ]
     },
     "metadata": {
      "needs_background": "light"
     },
     "output_type": "display_data"
    }
   ],
   "source": [
    "# before I decide how to handle the remaining nans, I'm plotting histograms of all the numeric features\n",
    "df.hist(figsize=(15,10))\n",
    "plt.subplots_adjust(hspace=0.5)"
   ]
  },
  {
   "cell_type": "markdown",
   "metadata": {},
   "source": [
    "I can ignore zipcode here, while it appears to be a numeric feature, it is really categorical. I will look at distribution of price per zipcode a little bit further down\n",
    "\n",
    "Some interesting insights here:\n",
    " - number of beds has a fairly normal distribution\n",
    " - it looks like Lot Size, $/Square Feet, and HOA/Month might have some outliers\n",
    " - 2 of the columns with missing values are concerning because they clustered at the low end: Lot Size & HOA/Month"
   ]
  },
  {
   "cell_type": "code",
   "execution_count": 27,
   "metadata": {},
   "outputs": [
    {
     "name": "stdout",
     "output_type": "stream",
     "text": [
      "<class 'pandas.core.frame.DataFrame'>\n",
      "Int64Index: 13097 entries, 0 to 157\n",
      "Data columns (total 15 columns):\n",
      " #   Column          Non-Null Count  Dtype  \n",
      "---  ------          --------------  -----  \n",
      " 0   address         13097 non-null  object \n",
      " 1   city            13097 non-null  object \n",
      " 2   zipcode         13097 non-null  int64  \n",
      " 3   price           13097 non-null  int64  \n",
      " 4   beds            13097 non-null  float64\n",
      " 5   baths           13097 non-null  float64\n",
      " 6   square_feet     13097 non-null  float64\n",
      " 7   lot_size        11606 non-null  float64\n",
      " 8   year_built      13097 non-null  float64\n",
      " 9   days_on_market  12019 non-null  float64\n",
      " 10  price_per_sqft  13097 non-null  float64\n",
      " 11  hoa_per_mon     8810 non-null   float64\n",
      " 12  latitude        13097 non-null  float64\n",
      " 13  longitude       13097 non-null  float64\n",
      " 14  property_type   13097 non-null  object \n",
      "dtypes: float64(10), int64(2), object(3)\n",
      "memory usage: 1.6+ MB\n"
     ]
    }
   ],
   "source": [
    "#renaming columns\n",
    "df = df.rename(str.lower, axis='columns')\n",
    "df = df.rename(columns={'zip or postal code': 'zipcode', 'square feet': 'square_feet', 'lot size': 'lot_size', 'year built': 'year_built', 'days on market': 'days_on_market', '$/square feet': 'price_per_sqft', 'hoa/month': 'hoa_per_mon'})\n",
    "df.info()"
   ]
  },
  {
   "cell_type": "code",
   "execution_count": 28,
   "metadata": {},
   "outputs": [
    {
     "data": {
      "text/html": [
       "<div>\n",
       "<style scoped>\n",
       "    .dataframe tbody tr th:only-of-type {\n",
       "        vertical-align: middle;\n",
       "    }\n",
       "\n",
       "    .dataframe tbody tr th {\n",
       "        vertical-align: top;\n",
       "    }\n",
       "\n",
       "    .dataframe thead th {\n",
       "        text-align: right;\n",
       "    }\n",
       "</style>\n",
       "<table border=\"1\" class=\"dataframe\">\n",
       "  <thead>\n",
       "    <tr style=\"text-align: right;\">\n",
       "      <th></th>\n",
       "      <th>count</th>\n",
       "      <th>mean</th>\n",
       "      <th>std</th>\n",
       "      <th>min</th>\n",
       "      <th>25%</th>\n",
       "      <th>50%</th>\n",
       "      <th>75%</th>\n",
       "      <th>max</th>\n",
       "    </tr>\n",
       "  </thead>\n",
       "  <tbody>\n",
       "    <tr>\n",
       "      <th>zipcode</th>\n",
       "      <td>13097.0</td>\n",
       "      <td>89105.531190</td>\n",
       "      <td>47.927214</td>\n",
       "      <td>89002.000000</td>\n",
       "      <td>89081.000000</td>\n",
       "      <td>89119.000000</td>\n",
       "      <td>89139.000000</td>\n",
       "      <td>8.931800e+04</td>\n",
       "    </tr>\n",
       "    <tr>\n",
       "      <th>price</th>\n",
       "      <td>13097.0</td>\n",
       "      <td>406626.882187</td>\n",
       "      <td>397254.904222</td>\n",
       "      <td>37000.000000</td>\n",
       "      <td>260000.000000</td>\n",
       "      <td>332000.000000</td>\n",
       "      <td>435000.000000</td>\n",
       "      <td>1.130000e+07</td>\n",
       "    </tr>\n",
       "    <tr>\n",
       "      <th>beds</th>\n",
       "      <td>13097.0</td>\n",
       "      <td>3.165916</td>\n",
       "      <td>1.018704</td>\n",
       "      <td>0.000000</td>\n",
       "      <td>3.000000</td>\n",
       "      <td>3.000000</td>\n",
       "      <td>4.000000</td>\n",
       "      <td>1.000000e+01</td>\n",
       "    </tr>\n",
       "    <tr>\n",
       "      <th>baths</th>\n",
       "      <td>13097.0</td>\n",
       "      <td>2.415038</td>\n",
       "      <td>0.786291</td>\n",
       "      <td>0.500000</td>\n",
       "      <td>2.000000</td>\n",
       "      <td>2.500000</td>\n",
       "      <td>2.500000</td>\n",
       "      <td>1.075000e+01</td>\n",
       "    </tr>\n",
       "    <tr>\n",
       "      <th>square_feet</th>\n",
       "      <td>13097.0</td>\n",
       "      <td>1983.724364</td>\n",
       "      <td>1070.263604</td>\n",
       "      <td>392.000000</td>\n",
       "      <td>1310.000000</td>\n",
       "      <td>1737.000000</td>\n",
       "      <td>2335.000000</td>\n",
       "      <td>2.012000e+04</td>\n",
       "    </tr>\n",
       "    <tr>\n",
       "      <th>lot_size</th>\n",
       "      <td>11606.0</td>\n",
       "      <td>6744.558763</td>\n",
       "      <td>6744.428177</td>\n",
       "      <td>1.000000</td>\n",
       "      <td>3920.000000</td>\n",
       "      <td>5663.000000</td>\n",
       "      <td>7405.000000</td>\n",
       "      <td>1.807740e+05</td>\n",
       "    </tr>\n",
       "    <tr>\n",
       "      <th>year_built</th>\n",
       "      <td>13097.0</td>\n",
       "      <td>1997.144995</td>\n",
       "      <td>14.881551</td>\n",
       "      <td>1932.000000</td>\n",
       "      <td>1990.000000</td>\n",
       "      <td>2000.000000</td>\n",
       "      <td>2006.000000</td>\n",
       "      <td>2.021000e+03</td>\n",
       "    </tr>\n",
       "    <tr>\n",
       "      <th>days_on_market</th>\n",
       "      <td>12019.0</td>\n",
       "      <td>42.751976</td>\n",
       "      <td>25.385321</td>\n",
       "      <td>1.000000</td>\n",
       "      <td>22.000000</td>\n",
       "      <td>42.000000</td>\n",
       "      <td>63.000000</td>\n",
       "      <td>9.000000e+01</td>\n",
       "    </tr>\n",
       "    <tr>\n",
       "      <th>price_per_sqft</th>\n",
       "      <td>13097.0</td>\n",
       "      <td>199.282507</td>\n",
       "      <td>71.163550</td>\n",
       "      <td>20.000000</td>\n",
       "      <td>164.000000</td>\n",
       "      <td>189.000000</td>\n",
       "      <td>220.000000</td>\n",
       "      <td>1.853000e+03</td>\n",
       "    </tr>\n",
       "    <tr>\n",
       "      <th>hoa_per_mon</th>\n",
       "      <td>8810.0</td>\n",
       "      <td>144.238479</td>\n",
       "      <td>208.896092</td>\n",
       "      <td>1.000000</td>\n",
       "      <td>48.000000</td>\n",
       "      <td>82.000000</td>\n",
       "      <td>180.000000</td>\n",
       "      <td>3.219000e+03</td>\n",
       "    </tr>\n",
       "    <tr>\n",
       "      <th>latitude</th>\n",
       "      <td>13097.0</td>\n",
       "      <td>36.131846</td>\n",
       "      <td>0.099918</td>\n",
       "      <td>35.922945</td>\n",
       "      <td>36.046325</td>\n",
       "      <td>36.133223</td>\n",
       "      <td>36.208439</td>\n",
       "      <td>3.641496e+01</td>\n",
       "    </tr>\n",
       "    <tr>\n",
       "      <th>longitude</th>\n",
       "      <td>13097.0</td>\n",
       "      <td>-115.180256</td>\n",
       "      <td>0.108594</td>\n",
       "      <td>-115.746375</td>\n",
       "      <td>-115.271210</td>\n",
       "      <td>-115.191023</td>\n",
       "      <td>-115.104026</td>\n",
       "      <td>-1.148150e+02</td>\n",
       "    </tr>\n",
       "  </tbody>\n",
       "</table>\n",
       "</div>"
      ],
      "text/plain": [
       "                  count           mean            std           min  \\\n",
       "zipcode         13097.0   89105.531190      47.927214  89002.000000   \n",
       "price           13097.0  406626.882187  397254.904222  37000.000000   \n",
       "beds            13097.0       3.165916       1.018704      0.000000   \n",
       "baths           13097.0       2.415038       0.786291      0.500000   \n",
       "square_feet     13097.0    1983.724364    1070.263604    392.000000   \n",
       "lot_size        11606.0    6744.558763    6744.428177      1.000000   \n",
       "year_built      13097.0    1997.144995      14.881551   1932.000000   \n",
       "days_on_market  12019.0      42.751976      25.385321      1.000000   \n",
       "price_per_sqft  13097.0     199.282507      71.163550     20.000000   \n",
       "hoa_per_mon      8810.0     144.238479     208.896092      1.000000   \n",
       "latitude        13097.0      36.131846       0.099918     35.922945   \n",
       "longitude       13097.0    -115.180256       0.108594   -115.746375   \n",
       "\n",
       "                          25%            50%            75%           max  \n",
       "zipcode          89081.000000   89119.000000   89139.000000  8.931800e+04  \n",
       "price           260000.000000  332000.000000  435000.000000  1.130000e+07  \n",
       "beds                 3.000000       3.000000       4.000000  1.000000e+01  \n",
       "baths                2.000000       2.500000       2.500000  1.075000e+01  \n",
       "square_feet       1310.000000    1737.000000    2335.000000  2.012000e+04  \n",
       "lot_size          3920.000000    5663.000000    7405.000000  1.807740e+05  \n",
       "year_built        1990.000000    2000.000000    2006.000000  2.021000e+03  \n",
       "days_on_market      22.000000      42.000000      63.000000  9.000000e+01  \n",
       "price_per_sqft     164.000000     189.000000     220.000000  1.853000e+03  \n",
       "hoa_per_mon         48.000000      82.000000     180.000000  3.219000e+03  \n",
       "latitude            36.046325      36.133223      36.208439  3.641496e+01  \n",
       "longitude         -115.271210    -115.191023    -115.104026 -1.148150e+02  "
      ]
     },
     "execution_count": 28,
     "metadata": {},
     "output_type": "execute_result"
    }
   ],
   "source": [
    "#looking at summary statistics for columns with Nans\n",
    "df.describe().T"
   ]
  },
  {
   "cell_type": "markdown",
   "metadata": {},
   "source": [
    "# Dealing with NaNs (Part 2)"
   ]
  },
  {
   "cell_type": "markdown",
   "metadata": {},
   "source": [
    "## Lot Size - dropping nans and outliers"
   ]
  },
  {
   "cell_type": "code",
   "execution_count": 29,
   "metadata": {},
   "outputs": [
    {
     "data": {
      "image/png": "[encoded data removed]",
      "text/plain": [
       "<Figure size 432x288 with 1 Axes>"
      ]
     },
     "metadata": {
      "needs_background": "light"
     },
     "output_type": "display_data"
    }
   ],
   "source": [
    "df.lot_size.hist(bins=30)\n",
    "plt.xlabel('lot_size')\n",
    "plt.ylabel('count')\n",
    "plt.title('Distribution of lot size')\n",
    "plt.show()"
   ]
  },
  {
   "cell_type": "code",
   "execution_count": 30,
   "metadata": {},
   "outputs": [
    {
     "data": {
      "text/plain": [
       "count     11606.000000\n",
       "mean       6744.558763\n",
       "std        6744.428177\n",
       "min           1.000000\n",
       "25%        3920.000000\n",
       "50%        5663.000000\n",
       "75%        7405.000000\n",
       "max      180774.000000\n",
       "Name: lot_size, dtype: float64"
      ]
     },
     "execution_count": 30,
     "metadata": {},
     "output_type": "execute_result"
    }
   ],
   "source": [
    "df['lot_size'].describe().T"
   ]
  },
  {
   "cell_type": "code",
   "execution_count": 31,
   "metadata": {},
   "outputs": [
    {
     "name": "stdout",
     "output_type": "stream",
     "text": [
      "<class 'pandas.core.frame.DataFrame'>\n",
      "Int64Index: 13097 entries, 0 to 157\n",
      "Data columns (total 15 columns):\n",
      " #   Column          Non-Null Count  Dtype  \n",
      "---  ------          --------------  -----  \n",
      " 0   address         13097 non-null  object \n",
      " 1   city            13097 non-null  object \n",
      " 2   zipcode         13097 non-null  int64  \n",
      " 3   price           13097 non-null  int64  \n",
      " 4   beds            13097 non-null  float64\n",
      " 5   baths           13097 non-null  float64\n",
      " 6   square_feet     13097 non-null  float64\n",
      " 7   lot_size        11606 non-null  float64\n",
      " 8   year_built      13097 non-null  float64\n",
      " 9   days_on_market  12019 non-null  float64\n",
      " 10  price_per_sqft  13097 non-null  float64\n",
      " 11  hoa_per_mon     8810 non-null   float64\n",
      " 12  latitude        13097 non-null  float64\n",
      " 13  longitude       13097 non-null  float64\n",
      " 14  property_type   13097 non-null  object \n",
      "dtypes: float64(10), int64(2), object(3)\n",
      "memory usage: 1.6+ MB\n"
     ]
    }
   ],
   "source": [
    "df.info()"
   ]
  },
  {
   "cell_type": "code",
   "execution_count": 32,
   "metadata": {},
   "outputs": [],
   "source": [
    "#dropping all listings with nans in lot_size\n",
    "df.dropna(subset=['lot_size'], inplace=True)"
   ]
  },
  {
   "cell_type": "code",
   "execution_count": 33,
   "metadata": {},
   "outputs": [
    {
     "name": "stdout",
     "output_type": "stream",
     "text": [
      "<class 'pandas.core.frame.DataFrame'>\n",
      "Int64Index: 11606 entries, 0 to 157\n",
      "Data columns (total 15 columns):\n",
      " #   Column          Non-Null Count  Dtype  \n",
      "---  ------          --------------  -----  \n",
      " 0   address         11606 non-null  object \n",
      " 1   city            11606 non-null  object \n",
      " 2   zipcode         11606 non-null  int64  \n",
      " 3   price           11606 non-null  int64  \n",
      " 4   beds            11606 non-null  float64\n",
      " 5   baths           11606 non-null  float64\n",
      " 6   square_feet     11606 non-null  float64\n",
      " 7   lot_size        11606 non-null  float64\n",
      " 8   year_built      11606 non-null  float64\n",
      " 9   days_on_market  10679 non-null  float64\n",
      " 10  price_per_sqft  11606 non-null  float64\n",
      " 11  hoa_per_mon     7488 non-null   float64\n",
      " 12  latitude        11606 non-null  float64\n",
      " 13  longitude       11606 non-null  float64\n",
      " 14  property_type   11606 non-null  object \n",
      "dtypes: float64(10), int64(2), object(3)\n",
      "memory usage: 1.4+ MB\n"
     ]
    }
   ],
   "source": [
    "df.info()"
   ]
  },
  {
   "cell_type": "markdown",
   "metadata": {},
   "source": [
    "## Days On Market - replacing nans"
   ]
  },
  {
   "cell_type": "code",
   "execution_count": 34,
   "metadata": {},
   "outputs": [
    {
     "data": {
      "text/plain": [
       "count    10679.000000\n",
       "mean        43.005431\n",
       "std         25.373025\n",
       "min          1.000000\n",
       "25%         22.000000\n",
       "50%         42.000000\n",
       "75%         63.000000\n",
       "max         90.000000\n",
       "Name: days_on_market, dtype: float64"
      ]
     },
     "execution_count": 34,
     "metadata": {},
     "output_type": "execute_result"
    }
   ],
   "source": [
    "df['days_on_market'].describe().T"
   ]
  },
  {
   "cell_type": "code",
   "execution_count": 35,
   "metadata": {},
   "outputs": [],
   "source": [
    "#I've decided to forward fill nans\n",
    "df['days_on_market'].fillna(method='ffill', inplace=True)"
   ]
  },
  {
   "cell_type": "code",
   "execution_count": 36,
   "metadata": {},
   "outputs": [
    {
     "data": {
      "text/plain": [
       "count    11606.000000\n",
       "mean        42.880924\n",
       "std         25.309591\n",
       "min          1.000000\n",
       "25%         22.000000\n",
       "50%         42.000000\n",
       "75%         63.000000\n",
       "max         90.000000\n",
       "Name: days_on_market, dtype: float64"
      ]
     },
     "execution_count": 36,
     "metadata": {},
     "output_type": "execute_result"
    }
   ],
   "source": [
    "df['days_on_market'].describe().T"
   ]
  },
  {
   "cell_type": "code",
   "execution_count": 37,
   "metadata": {},
   "outputs": [
    {
     "name": "stdout",
     "output_type": "stream",
     "text": [
      "<class 'pandas.core.frame.DataFrame'>\n",
      "Int64Index: 11606 entries, 0 to 157\n",
      "Data columns (total 15 columns):\n",
      " #   Column          Non-Null Count  Dtype  \n",
      "---  ------          --------------  -----  \n",
      " 0   address         11606 non-null  object \n",
      " 1   city            11606 non-null  object \n",
      " 2   zipcode         11606 non-null  int64  \n",
      " 3   price           11606 non-null  int64  \n",
      " 4   beds            11606 non-null  float64\n",
      " 5   baths           11606 non-null  float64\n",
      " 6   square_feet     11606 non-null  float64\n",
      " 7   lot_size        11606 non-null  float64\n",
      " 8   year_built      11606 non-null  float64\n",
      " 9   days_on_market  11606 non-null  float64\n",
      " 10  price_per_sqft  11606 non-null  float64\n",
      " 11  hoa_per_mon     7488 non-null   float64\n",
      " 12  latitude        11606 non-null  float64\n",
      " 13  longitude       11606 non-null  float64\n",
      " 14  property_type   11606 non-null  object \n",
      "dtypes: float64(10), int64(2), object(3)\n",
      "memory usage: 1.4+ MB\n"
     ]
    }
   ],
   "source": [
    "df.info()"
   ]
  },
  {
   "cell_type": "markdown",
   "metadata": {},
   "source": [
    "## HOA per month - replacing nans"
   ]
  },
  {
   "cell_type": "code",
   "execution_count": 38,
   "metadata": {},
   "outputs": [
    {
     "data": {
      "image/png": "[encoded data removed]",
      "text/plain": [
       "<Figure size 432x288 with 1 Axes>"
      ]
     },
     "metadata": {
      "needs_background": "light"
     },
     "output_type": "display_data"
    }
   ],
   "source": [
    "df.hoa_per_mon.hist(bins=30)\n",
    "plt.xlabel('hoa_per_month')\n",
    "plt.ylabel('count')\n",
    "plt.title('Distribution of hoa per month')\n",
    "plt.show()"
   ]
  },
  {
   "cell_type": "code",
   "execution_count": 39,
   "metadata": {
    "scrolled": false
   },
   "outputs": [
    {
     "data": {
      "text/html": [
       "<div>\n",
       "<style scoped>\n",
       "    .dataframe tbody tr th:only-of-type {\n",
       "        vertical-align: middle;\n",
       "    }\n",
       "\n",
       "    .dataframe tbody tr th {\n",
       "        vertical-align: top;\n",
       "    }\n",
       "\n",
       "    .dataframe thead th {\n",
       "        text-align: right;\n",
       "    }\n",
       "</style>\n",
       "<table border=\"1\" class=\"dataframe\">\n",
       "  <thead>\n",
       "    <tr style=\"text-align: right;\">\n",
       "      <th></th>\n",
       "      <th>address</th>\n",
       "      <th>city</th>\n",
       "      <th>zipcode</th>\n",
       "      <th>price</th>\n",
       "      <th>beds</th>\n",
       "      <th>baths</th>\n",
       "      <th>square_feet</th>\n",
       "      <th>lot_size</th>\n",
       "      <th>year_built</th>\n",
       "      <th>days_on_market</th>\n",
       "      <th>price_per_sqft</th>\n",
       "      <th>hoa_per_mon</th>\n",
       "      <th>latitude</th>\n",
       "      <th>longitude</th>\n",
       "      <th>property_type</th>\n",
       "    </tr>\n",
       "  </thead>\n",
       "  <tbody>\n",
       "    <tr>\n",
       "      <th>233</th>\n",
       "      <td>2800 High Sail Ct</td>\n",
       "      <td>Las Vegas</td>\n",
       "      <td>89117</td>\n",
       "      <td>2850000</td>\n",
       "      <td>6.0</td>\n",
       "      <td>6.50</td>\n",
       "      <td>10929.0</td>\n",
       "      <td>42689.0</td>\n",
       "      <td>1997.0</td>\n",
       "      <td>30.0</td>\n",
       "      <td>261.0</td>\n",
       "      <td>1006.0</td>\n",
       "      <td>36.140251</td>\n",
       "      <td>-115.287879</td>\n",
       "      <td>SingleFamily</td>\n",
       "    </tr>\n",
       "    <tr>\n",
       "      <th>96</th>\n",
       "      <td>9 Mountain Cove Ct</td>\n",
       "      <td>Henderson</td>\n",
       "      <td>89052</td>\n",
       "      <td>3350000</td>\n",
       "      <td>5.0</td>\n",
       "      <td>7.25</td>\n",
       "      <td>8416.0</td>\n",
       "      <td>22216.0</td>\n",
       "      <td>2005.0</td>\n",
       "      <td>15.0</td>\n",
       "      <td>398.0</td>\n",
       "      <td>1480.0</td>\n",
       "      <td>35.964281</td>\n",
       "      <td>-115.078709</td>\n",
       "      <td>SingleFamily</td>\n",
       "    </tr>\n",
       "    <tr>\n",
       "      <th>96</th>\n",
       "      <td>2406 Sungold Dr</td>\n",
       "      <td>Las Vegas</td>\n",
       "      <td>89134</td>\n",
       "      <td>435000</td>\n",
       "      <td>2.0</td>\n",
       "      <td>1.75</td>\n",
       "      <td>1653.0</td>\n",
       "      <td>9583.0</td>\n",
       "      <td>1990.0</td>\n",
       "      <td>35.0</td>\n",
       "      <td>263.0</td>\n",
       "      <td>1647.0</td>\n",
       "      <td>36.203981</td>\n",
       "      <td>-115.287578</td>\n",
       "      <td>SingleFamily</td>\n",
       "    </tr>\n",
       "    <tr>\n",
       "      <th>275</th>\n",
       "      <td>1701 Enclave Ct</td>\n",
       "      <td>Las Vegas</td>\n",
       "      <td>89134</td>\n",
       "      <td>9600000</td>\n",
       "      <td>4.0</td>\n",
       "      <td>6.50</td>\n",
       "      <td>13349.0</td>\n",
       "      <td>84506.0</td>\n",
       "      <td>1997.0</td>\n",
       "      <td>21.0</td>\n",
       "      <td>719.0</td>\n",
       "      <td>1275.0</td>\n",
       "      <td>36.190295</td>\n",
       "      <td>-115.295890</td>\n",
       "      <td>SingleFamily</td>\n",
       "    </tr>\n",
       "    <tr>\n",
       "      <th>294</th>\n",
       "      <td>1641 Enclave Court Ct</td>\n",
       "      <td>Las Vegas</td>\n",
       "      <td>89134</td>\n",
       "      <td>11300000</td>\n",
       "      <td>6.0</td>\n",
       "      <td>8.25</td>\n",
       "      <td>14132.0</td>\n",
       "      <td>113256.0</td>\n",
       "      <td>1999.0</td>\n",
       "      <td>7.0</td>\n",
       "      <td>800.0</td>\n",
       "      <td>1275.0</td>\n",
       "      <td>36.189567</td>\n",
       "      <td>-115.296121</td>\n",
       "      <td>SingleFamily</td>\n",
       "    </tr>\n",
       "    <tr>\n",
       "      <th>69</th>\n",
       "      <td>11280 Granite Ridge Dr #1031</td>\n",
       "      <td>Las Vegas</td>\n",
       "      <td>89135</td>\n",
       "      <td>926995</td>\n",
       "      <td>3.0</td>\n",
       "      <td>2.50</td>\n",
       "      <td>2414.0</td>\n",
       "      <td>7405.0</td>\n",
       "      <td>2020.0</td>\n",
       "      <td>39.0</td>\n",
       "      <td>384.0</td>\n",
       "      <td>1002.0</td>\n",
       "      <td>36.113731</td>\n",
       "      <td>-115.337511</td>\n",
       "      <td>Condo/Townhouse</td>\n",
       "    </tr>\n",
       "    <tr>\n",
       "      <th>101</th>\n",
       "      <td>11280 Granite Ridge Dr #1094</td>\n",
       "      <td>Las Vegas</td>\n",
       "      <td>89135</td>\n",
       "      <td>1315000</td>\n",
       "      <td>4.0</td>\n",
       "      <td>3.75</td>\n",
       "      <td>3211.0</td>\n",
       "      <td>7405.0</td>\n",
       "      <td>2019.0</td>\n",
       "      <td>43.0</td>\n",
       "      <td>410.0</td>\n",
       "      <td>1002.0</td>\n",
       "      <td>36.113731</td>\n",
       "      <td>-115.337511</td>\n",
       "      <td>Condo/Townhouse</td>\n",
       "    </tr>\n",
       "    <tr>\n",
       "      <th>177</th>\n",
       "      <td>11280 Granite Ridge Dr #1085</td>\n",
       "      <td>Las Vegas</td>\n",
       "      <td>89135</td>\n",
       "      <td>1199900</td>\n",
       "      <td>3.0</td>\n",
       "      <td>2.50</td>\n",
       "      <td>2418.0</td>\n",
       "      <td>5227.0</td>\n",
       "      <td>2019.0</td>\n",
       "      <td>49.0</td>\n",
       "      <td>496.0</td>\n",
       "      <td>1002.0</td>\n",
       "      <td>36.113731</td>\n",
       "      <td>-115.337511</td>\n",
       "      <td>Condo/Townhouse</td>\n",
       "    </tr>\n",
       "    <tr>\n",
       "      <th>232</th>\n",
       "      <td>11280 Granite Ridge Dr #1022</td>\n",
       "      <td>Las Vegas</td>\n",
       "      <td>89135</td>\n",
       "      <td>925000</td>\n",
       "      <td>3.0</td>\n",
       "      <td>2.50</td>\n",
       "      <td>2414.0</td>\n",
       "      <td>7405.0</td>\n",
       "      <td>2020.0</td>\n",
       "      <td>11.0</td>\n",
       "      <td>383.0</td>\n",
       "      <td>1002.0</td>\n",
       "      <td>36.113731</td>\n",
       "      <td>-115.337511</td>\n",
       "      <td>Condo/Townhouse</td>\n",
       "    </tr>\n",
       "  </tbody>\n",
       "</table>\n",
       "</div>"
      ],
      "text/plain": [
       "                          address       city  zipcode     price  beds  baths  \\\n",
       "233             2800 High Sail Ct  Las Vegas    89117   2850000   6.0   6.50   \n",
       "96             9 Mountain Cove Ct  Henderson    89052   3350000   5.0   7.25   \n",
       "96                2406 Sungold Dr  Las Vegas    89134    435000   2.0   1.75   \n",
       "275               1701 Enclave Ct  Las Vegas    89134   9600000   4.0   6.50   \n",
       "294         1641 Enclave Court Ct  Las Vegas    89134  11300000   6.0   8.25   \n",
       "69   11280 Granite Ridge Dr #1031  Las Vegas    89135    926995   3.0   2.50   \n",
       "101  11280 Granite Ridge Dr #1094  Las Vegas    89135   1315000   4.0   3.75   \n",
       "177  11280 Granite Ridge Dr #1085  Las Vegas    89135   1199900   3.0   2.50   \n",
       "232  11280 Granite Ridge Dr #1022  Las Vegas    89135    925000   3.0   2.50   \n",
       "\n",
       "     square_feet  lot_size  year_built  days_on_market  price_per_sqft  \\\n",
       "233      10929.0   42689.0      1997.0            30.0           261.0   \n",
       "96        8416.0   22216.0      2005.0            15.0           398.0   \n",
       "96        1653.0    9583.0      1990.0            35.0           263.0   \n",
       "275      13349.0   84506.0      1997.0            21.0           719.0   \n",
       "294      14132.0  113256.0      1999.0             7.0           800.0   \n",
       "69        2414.0    7405.0      2020.0            39.0           384.0   \n",
       "101       3211.0    7405.0      2019.0            43.0           410.0   \n",
       "177       2418.0    5227.0      2019.0            49.0           496.0   \n",
       "232       2414.0    7405.0      2020.0            11.0           383.0   \n",
       "\n",
       "     hoa_per_mon   latitude   longitude    property_type  \n",
       "233       1006.0  36.140251 -115.287879     SingleFamily  \n",
       "96        1480.0  35.964281 -115.078709     SingleFamily  \n",
       "96        1647.0  36.203981 -115.287578     SingleFamily  \n",
       "275       1275.0  36.190295 -115.295890     SingleFamily  \n",
       "294       1275.0  36.189567 -115.296121     SingleFamily  \n",
       "69        1002.0  36.113731 -115.337511  Condo/Townhouse  \n",
       "101       1002.0  36.113731 -115.337511  Condo/Townhouse  \n",
       "177       1002.0  36.113731 -115.337511  Condo/Townhouse  \n",
       "232       1002.0  36.113731 -115.337511  Condo/Townhouse  "
      ]
     },
     "execution_count": 39,
     "metadata": {},
     "output_type": "execute_result"
    }
   ],
   "source": [
    "#HOA > $1000 per month seems extreme, but I'm going to look at the zipcode column to see if this makes sense\n",
    "df[df['hoa_per_mon'] > 1000]"
   ]
  },
  {
   "cell_type": "code",
   "execution_count": 40,
   "metadata": {},
   "outputs": [
    {
     "data": {
      "text/plain": [
       "SingleFamily       3976\n",
       "Condo/Townhouse     142\n",
       "Name: property_type, dtype: int64"
      ]
     },
     "execution_count": 40,
     "metadata": {},
     "output_type": "execute_result"
    }
   ],
   "source": [
    "null_hoa = df[df['hoa_per_mon'].isna()]\n",
    "null_hoa['property_type'].value_counts()"
   ]
  },
  {
   "cell_type": "code",
   "execution_count": 41,
   "metadata": {},
   "outputs": [
    {
     "data": {
      "text/plain": [
       "count    7488.000000\n",
       "mean      102.134749\n",
       "std        99.985680\n",
       "min         1.000000\n",
       "25%        42.000000\n",
       "50%        67.000000\n",
       "75%       137.250000\n",
       "max      1647.000000\n",
       "Name: hoa_per_mon, dtype: float64"
      ]
     },
     "execution_count": 41,
     "metadata": {},
     "output_type": "execute_result"
    }
   ],
   "source": [
    "df['hoa_per_mon'].describe().T"
   ]
  },
  {
   "cell_type": "code",
   "execution_count": 42,
   "metadata": {},
   "outputs": [
    {
     "data": {
      "text/plain": [
       "count    11606.000000\n",
       "mean        89.668361\n",
       "std         82.050587\n",
       "min          1.000000\n",
       "25%         55.000000\n",
       "50%         67.000000\n",
       "75%         86.000000\n",
       "max       1647.000000\n",
       "Name: hoa_per_mon, dtype: float64"
      ]
     },
     "execution_count": 42,
     "metadata": {},
     "output_type": "execute_result"
    }
   ],
   "source": [
    "# since it looks like there might be quite a few outliers in this column, I'm going to use median to fillna; \n",
    "# it is possible that some of these homes don't have HOA fees, but that is very rare in the Las Vegas area,\n",
    "# so I've decided not to fill with zero\n",
    "df['hoa_per_mon'] = df['hoa_per_mon'].fillna(value = df['hoa_per_mon'].median())\n",
    "df['hoa_per_mon'].describe().T"
   ]
  },
  {
   "cell_type": "code",
   "execution_count": 43,
   "metadata": {},
   "outputs": [
    {
     "data": {
      "image/png": "[encoded data removed]",
      "text/plain": [
       "<Figure size 432x288 with 1 Axes>"
      ]
     },
     "metadata": {
      "needs_background": "light"
     },
     "output_type": "display_data"
    }
   ],
   "source": [
    "df.hoa_per_mon.hist(bins=30)\n",
    "plt.xlabel('hoa_per_month')\n",
    "plt.ylabel('count')\n",
    "plt.title('Distribution of hoa per month after filling nans')\n",
    "plt.show()"
   ]
  },
  {
   "cell_type": "code",
   "execution_count": 44,
   "metadata": {},
   "outputs": [
    {
     "data": {
      "text/plain": [
       "address           0\n",
       "city              0\n",
       "zipcode           0\n",
       "price             0\n",
       "beds              0\n",
       "baths             0\n",
       "square_feet       0\n",
       "lot_size          0\n",
       "year_built        0\n",
       "days_on_market    0\n",
       "price_per_sqft    0\n",
       "hoa_per_mon       0\n",
       "latitude          0\n",
       "longitude         0\n",
       "property_type     0\n",
       "dtype: int64"
      ]
     },
     "execution_count": 44,
     "metadata": {},
     "output_type": "execute_result"
    }
   ],
   "source": [
    "#checking to make sure I took care of all the nans\n",
    "df.isna().sum()"
   ]
  },
  {
   "cell_type": "code",
   "execution_count": 45,
   "metadata": {},
   "outputs": [
    {
     "name": "stdout",
     "output_type": "stream",
     "text": [
      "<class 'pandas.core.frame.DataFrame'>\n",
      "Int64Index: 11606 entries, 0 to 157\n",
      "Data columns (total 15 columns):\n",
      " #   Column          Non-Null Count  Dtype  \n",
      "---  ------          --------------  -----  \n",
      " 0   address         11606 non-null  object \n",
      " 1   city            11606 non-null  object \n",
      " 2   zipcode         11606 non-null  int64  \n",
      " 3   price           11606 non-null  int64  \n",
      " 4   beds            11606 non-null  float64\n",
      " 5   baths           11606 non-null  float64\n",
      " 6   square_feet     11606 non-null  float64\n",
      " 7   lot_size        11606 non-null  float64\n",
      " 8   year_built      11606 non-null  float64\n",
      " 9   days_on_market  11606 non-null  float64\n",
      " 10  price_per_sqft  11606 non-null  float64\n",
      " 11  hoa_per_mon     11606 non-null  float64\n",
      " 12  latitude        11606 non-null  float64\n",
      " 13  longitude       11606 non-null  float64\n",
      " 14  property_type   11606 non-null  object \n",
      "dtypes: float64(10), int64(2), object(3)\n",
      "memory usage: 1.4+ MB\n"
     ]
    }
   ],
   "source": [
    "#double checking data types\n",
    "df.info()"
   ]
  },
  {
   "cell_type": "markdown",
   "metadata": {},
   "source": [
    "# Data Definitions"
   ]
  },
  {
   "cell_type": "markdown",
   "metadata": {},
   "source": [
    "## property_type\n",
    "<br><b>description:</b> type of property that is listed"
   ]
  },
  {
   "cell_type": "code",
   "execution_count": 46,
   "metadata": {},
   "outputs": [
    {
     "data": {
      "text/plain": [
       "count            11606\n",
       "unique               2\n",
       "top       SingleFamily\n",
       "freq             10062\n",
       "Name: property_type, dtype: object"
      ]
     },
     "execution_count": 46,
     "metadata": {},
     "output_type": "execute_result"
    }
   ],
   "source": [
    "df['property_type'].describe().T"
   ]
  },
  {
   "cell_type": "code",
   "execution_count": 47,
   "metadata": {},
   "outputs": [
    {
     "data": {
      "text/plain": [
       "SingleFamily       10062\n",
       "Condo/Townhouse     1544\n",
       "Name: property_type, dtype: int64"
      ]
     },
     "execution_count": 47,
     "metadata": {},
     "output_type": "execute_result"
    }
   ],
   "source": [
    "df['property_type'].value_counts()"
   ]
  },
  {
   "cell_type": "markdown",
   "metadata": {},
   "source": [
    "## address\n",
    "<br><b>description:</b> address of listing (no duplicates)"
   ]
  },
  {
   "cell_type": "code",
   "execution_count": 48,
   "metadata": {},
   "outputs": [
    {
     "data": {
      "text/plain": [
       "count                     11606\n",
       "unique                    11606\n",
       "top       368 Calabria Beach St\n",
       "freq                          1\n",
       "Name: address, dtype: object"
      ]
     },
     "execution_count": 48,
     "metadata": {},
     "output_type": "execute_result"
    }
   ],
   "source": [
    "df['address'].describe().T"
   ]
  },
  {
   "cell_type": "markdown",
   "metadata": {},
   "source": [
    "## city\n",
    "<br><b>description:</b> city of listed property"
   ]
  },
  {
   "cell_type": "code",
   "execution_count": 49,
   "metadata": {},
   "outputs": [
    {
     "data": {
      "text/plain": [
       "Las Vegas          8139\n",
       "Henderson          2113\n",
       "North Las Vegas    1238\n",
       "Boulder City        112\n",
       "Blue Diamond          2\n",
       "Enterprise            2\n",
       "Name: city, dtype: int64"
      ]
     },
     "execution_count": 49,
     "metadata": {},
     "output_type": "execute_result"
    }
   ],
   "source": [
    "df['city'].value_counts()"
   ]
  },
  {
   "cell_type": "markdown",
   "metadata": {},
   "source": [
    "## zipcode\n",
    "<br><b>description:</b> zipcode of listed property"
   ]
  },
  {
   "cell_type": "code",
   "execution_count": 50,
   "metadata": {},
   "outputs": [
    {
     "data": {
      "text/plain": [
       "89052    425\n",
       "89031    410\n",
       "89149    354\n",
       "89117    350\n",
       "89148    348\n",
       "        ... \n",
       "89085     20\n",
       "89124      7\n",
       "89004      2\n",
       "89318      1\n",
       "89161      1\n",
       "Name: zipcode, Length: 61, dtype: int64"
      ]
     },
     "execution_count": 50,
     "metadata": {},
     "output_type": "execute_result"
    }
   ],
   "source": [
    "df['zipcode'].value_counts()"
   ]
  },
  {
   "cell_type": "markdown",
   "metadata": {},
   "source": [
    "## price\n",
    "<br><b>description:</b> listing price of property"
   ]
  },
  {
   "cell_type": "code",
   "execution_count": 51,
   "metadata": {},
   "outputs": [
    {
     "data": {
      "text/plain": [
       "count    1.160600e+04\n",
       "mean     4.248243e+05\n",
       "std      3.963848e+05\n",
       "min      4.500000e+04\n",
       "25%      2.800000e+05\n",
       "50%      3.450000e+05\n",
       "75%      4.475000e+05\n",
       "max      1.130000e+07\n",
       "Name: price, dtype: float64"
      ]
     },
     "execution_count": 51,
     "metadata": {},
     "output_type": "execute_result"
    }
   ],
   "source": [
    "df['price'].describe().T"
   ]
  },
  {
   "cell_type": "markdown",
   "metadata": {},
   "source": [
    "## beds\n",
    "<br><b>description:</b> number of bedrooms"
   ]
  },
  {
   "cell_type": "code",
   "execution_count": 52,
   "metadata": {},
   "outputs": [
    {
     "data": {
      "text/plain": [
       "count    11606.000000\n",
       "mean         3.336292\n",
       "std          0.922431\n",
       "min          0.000000\n",
       "25%          3.000000\n",
       "50%          3.000000\n",
       "75%          4.000000\n",
       "max         10.000000\n",
       "Name: beds, dtype: float64"
      ]
     },
     "execution_count": 52,
     "metadata": {},
     "output_type": "execute_result"
    }
   ],
   "source": [
    "df['beds'].describe().T"
   ]
  },
  {
   "cell_type": "code",
   "execution_count": 53,
   "metadata": {},
   "outputs": [
    {
     "data": {
      "text/plain": [
       "3.0     5341\n",
       "4.0     3316\n",
       "2.0     1710\n",
       "5.0      965\n",
       "6.0      149\n",
       "1.0       94\n",
       "7.0       18\n",
       "8.0        7\n",
       "0.0        4\n",
       "9.0        1\n",
       "10.0       1\n",
       "Name: beds, dtype: int64"
      ]
     },
     "execution_count": 53,
     "metadata": {},
     "output_type": "execute_result"
    }
   ],
   "source": [
    "df['beds'].value_counts()"
   ]
  },
  {
   "cell_type": "markdown",
   "metadata": {},
   "source": [
    "## baths\n",
    "<br><b>description:</b> number of bathrooms"
   ]
  },
  {
   "cell_type": "code",
   "execution_count": 54,
   "metadata": {},
   "outputs": [
    {
     "data": {
      "text/plain": [
       "count    11606.000000\n",
       "mean         2.498600\n",
       "std          0.774738\n",
       "min          0.500000\n",
       "25%          2.000000\n",
       "50%          2.500000\n",
       "75%          2.750000\n",
       "max         10.750000\n",
       "Name: baths, dtype: float64"
      ]
     },
     "execution_count": 54,
     "metadata": {},
     "output_type": "execute_result"
    }
   ],
   "source": [
    "df['baths'].describe().T"
   ]
  },
  {
   "cell_type": "code",
   "execution_count": 55,
   "metadata": {},
   "outputs": [
    {
     "data": {
      "text/plain": [
       "2.50     3597\n",
       "2.00     3184\n",
       "3.00     1177\n",
       "1.75      895\n",
       "2.75      562\n",
       "3.50      540\n",
       "2.25      303\n",
       "1.00      276\n",
       "4.50      225\n",
       "1.50      172\n",
       "4.00      168\n",
       "3.25      155\n",
       "3.75       86\n",
       "4.25       55\n",
       "5.50       49\n",
       "5.00       37\n",
       "5.25       24\n",
       "6.00       18\n",
       "6.50       15\n",
       "4.75       13\n",
       "0.75        9\n",
       "7.50        8\n",
       "6.25        7\n",
       "5.75        7\n",
       "1.25        5\n",
       "7.00        5\n",
       "7.25        3\n",
       "7.75        3\n",
       "6.75        2\n",
       "8.25        2\n",
       "0.50        1\n",
       "10.75       1\n",
       "10.50       1\n",
       "8.75        1\n",
       "Name: baths, dtype: int64"
      ]
     },
     "execution_count": 55,
     "metadata": {},
     "output_type": "execute_result"
    }
   ],
   "source": [
    "df['baths'].value_counts()"
   ]
  },
  {
   "cell_type": "markdown",
   "metadata": {},
   "source": [
    "## square_feet\n",
    "<br><b>description:</b> total square footage of listing"
   ]
  },
  {
   "cell_type": "code",
   "execution_count": 56,
   "metadata": {},
   "outputs": [
    {
     "data": {
      "text/plain": [
       "count    11606.000000\n",
       "mean      2094.207996\n",
       "std       1074.379340\n",
       "min        392.000000\n",
       "25%       1434.000000\n",
       "50%       1833.000000\n",
       "75%       2436.750000\n",
       "max      20120.000000\n",
       "Name: square_feet, dtype: float64"
      ]
     },
     "execution_count": 56,
     "metadata": {},
     "output_type": "execute_result"
    }
   ],
   "source": [
    "df['square_feet'].describe().T"
   ]
  },
  {
   "cell_type": "code",
   "execution_count": 57,
   "metadata": {},
   "outputs": [
    {
     "data": {
      "text/plain": [
       "2096.0    28\n",
       "1247.0    27\n",
       "1188.0    26\n",
       "1570.0    26\n",
       "1768.0    24\n",
       "          ..\n",
       "3605.0     1\n",
       "2981.0     1\n",
       "8844.0     1\n",
       "3953.0     1\n",
       "4162.0     1\n",
       "Name: square_feet, Length: 3004, dtype: int64"
      ]
     },
     "execution_count": 57,
     "metadata": {},
     "output_type": "execute_result"
    }
   ],
   "source": [
    "df['square_feet'].value_counts()"
   ]
  },
  {
   "cell_type": "markdown",
   "metadata": {},
   "source": [
    "## lot_size\n",
    "<br><b>description:</b> total lot size of property"
   ]
  },
  {
   "cell_type": "code",
   "execution_count": 58,
   "metadata": {},
   "outputs": [
    {
     "data": {
      "text/plain": [
       "count     11606.000000\n",
       "mean       6744.558763\n",
       "std        6744.428177\n",
       "min           1.000000\n",
       "25%        3920.000000\n",
       "50%        5663.000000\n",
       "75%        7405.000000\n",
       "max      180774.000000\n",
       "Name: lot_size, dtype: float64"
      ]
     },
     "execution_count": 58,
     "metadata": {},
     "output_type": "execute_result"
    }
   ],
   "source": [
    "df['lot_size'].describe().T"
   ]
  },
  {
   "cell_type": "code",
   "execution_count": 59,
   "metadata": {},
   "outputs": [
    {
     "data": {
      "text/plain": [
       "6098.0    977\n",
       "4356.0    831\n",
       "4792.0    736\n",
       "6534.0    709\n",
       "3920.0    656\n",
       "         ... \n",
       "1190.0      1\n",
       "2239.0      1\n",
       "4605.0      1\n",
       "3484.0      1\n",
       "1159.0      1\n",
       "Name: lot_size, Length: 557, dtype: int64"
      ]
     },
     "execution_count": 59,
     "metadata": {},
     "output_type": "execute_result"
    }
   ],
   "source": [
    "df['lot_size'].value_counts()"
   ]
  },
  {
   "cell_type": "markdown",
   "metadata": {},
   "source": [
    "## year_built\n",
    "<br><b>description:</b> year that house was built"
   ]
  },
  {
   "cell_type": "code",
   "execution_count": 60,
   "metadata": {},
   "outputs": [
    {
     "data": {
      "text/plain": [
       "count    11606.000000\n",
       "mean      1997.252369\n",
       "std         15.414491\n",
       "min       1932.000000\n",
       "25%       1990.000000\n",
       "50%       2000.000000\n",
       "75%       2006.000000\n",
       "max       2021.000000\n",
       "Name: year_built, dtype: float64"
      ]
     },
     "execution_count": 60,
     "metadata": {},
     "output_type": "execute_result"
    }
   ],
   "source": [
    "df['year_built'].describe().T"
   ]
  },
  {
   "cell_type": "code",
   "execution_count": 61,
   "metadata": {},
   "outputs": [
    {
     "data": {
      "text/plain": [
       "2005.0    614\n",
       "2006.0    600\n",
       "2004.0    564\n",
       "2001.0    451\n",
       "2007.0    434\n",
       "         ... \n",
       "1933.0      1\n",
       "1937.0      1\n",
       "1934.0      1\n",
       "1939.0      1\n",
       "1945.0      1\n",
       "Name: year_built, Length: 89, dtype: int64"
      ]
     },
     "execution_count": 61,
     "metadata": {},
     "output_type": "execute_result"
    }
   ],
   "source": [
    "df['year_built'].value_counts()"
   ]
  },
  {
   "cell_type": "markdown",
   "metadata": {},
   "source": [
    "## days_on_market\n",
    "<br><b>description:</b> total number of days since listing was posted on Redfin"
   ]
  },
  {
   "cell_type": "code",
   "execution_count": 62,
   "metadata": {},
   "outputs": [
    {
     "data": {
      "text/plain": [
       "count    11606.000000\n",
       "mean        42.880924\n",
       "std         25.309591\n",
       "min          1.000000\n",
       "25%         22.000000\n",
       "50%         42.000000\n",
       "75%         63.000000\n",
       "max         90.000000\n",
       "Name: days_on_market, dtype: float64"
      ]
     },
     "execution_count": 62,
     "metadata": {},
     "output_type": "execute_result"
    }
   ],
   "source": [
    "df['days_on_market'].describe().T"
   ]
  },
  {
   "cell_type": "code",
   "execution_count": 63,
   "metadata": {},
   "outputs": [
    {
     "data": {
      "text/plain": [
       "56.0    343\n",
       "23.0    283\n",
       "84.0    252\n",
       "35.0    241\n",
       "49.0    241\n",
       "       ... \n",
       "13.0     50\n",
       "48.0     44\n",
       "69.0     42\n",
       "76.0     28\n",
       "67.0     12\n",
       "Name: days_on_market, Length: 90, dtype: int64"
      ]
     },
     "execution_count": 63,
     "metadata": {},
     "output_type": "execute_result"
    }
   ],
   "source": [
    "df['days_on_market'].value_counts()"
   ]
  },
  {
   "cell_type": "markdown",
   "metadata": {},
   "source": [
    "## price_per_sqft\n",
    "<br><b>description:</b> price per square foot"
   ]
  },
  {
   "cell_type": "code",
   "execution_count": 64,
   "metadata": {},
   "outputs": [
    {
     "data": {
      "text/plain": [
       "count    11606.000000\n",
       "mean       197.187403\n",
       "std         55.245046\n",
       "min         20.000000\n",
       "25%        166.000000\n",
       "50%        190.000000\n",
       "75%        219.000000\n",
       "max        800.000000\n",
       "Name: price_per_sqft, dtype: float64"
      ]
     },
     "execution_count": 64,
     "metadata": {},
     "output_type": "execute_result"
    }
   ],
   "source": [
    "df['price_per_sqft'].describe().T"
   ]
  },
  {
   "cell_type": "code",
   "execution_count": 65,
   "metadata": {},
   "outputs": [
    {
     "data": {
      "text/plain": [
       "174.0    144\n",
       "179.0    141\n",
       "187.0    135\n",
       "185.0    133\n",
       "180.0    129\n",
       "        ... \n",
       "547.0      1\n",
       "428.0      1\n",
       "408.0      1\n",
       "341.0      1\n",
       "466.0      1\n",
       "Name: price_per_sqft, Length: 427, dtype: int64"
      ]
     },
     "execution_count": 65,
     "metadata": {},
     "output_type": "execute_result"
    }
   ],
   "source": [
    "df['price_per_sqft'].value_counts()"
   ]
  },
  {
   "cell_type": "markdown",
   "metadata": {},
   "source": [
    "## hoa_per_mon\n",
    "<br><b>description:</b> monthly cost of HOA"
   ]
  },
  {
   "cell_type": "code",
   "execution_count": 66,
   "metadata": {},
   "outputs": [
    {
     "data": {
      "text/plain": [
       "count    11606.000000\n",
       "mean        89.668361\n",
       "std         82.050587\n",
       "min          1.000000\n",
       "25%         55.000000\n",
       "50%         67.000000\n",
       "75%         86.000000\n",
       "max       1647.000000\n",
       "Name: hoa_per_mon, dtype: float64"
      ]
     },
     "execution_count": 66,
     "metadata": {},
     "output_type": "execute_result"
    }
   ],
   "source": [
    "df['hoa_per_mon'].describe().T"
   ]
  },
  {
   "cell_type": "code",
   "execution_count": 67,
   "metadata": {},
   "outputs": [
    {
     "data": {
      "text/plain": [
       "67.0      4201\n",
       "50.0       252\n",
       "55.0       166\n",
       "65.0       148\n",
       "40.0       148\n",
       "          ... \n",
       "500.0        1\n",
       "451.0        1\n",
       "1006.0       1\n",
       "412.0        1\n",
       "337.0        1\n",
       "Name: hoa_per_mon, Length: 370, dtype: int64"
      ]
     },
     "execution_count": 67,
     "metadata": {},
     "output_type": "execute_result"
    }
   ],
   "source": [
    "df['hoa_per_mon'].value_counts()"
   ]
  },
  {
   "cell_type": "markdown",
   "metadata": {},
   "source": [
    "## latitude\n",
    "<br><b>description:</b> standard measure of angular distance from the equator (north to south)"
   ]
  },
  {
   "cell_type": "code",
   "execution_count": 68,
   "metadata": {},
   "outputs": [
    {
     "data": {
      "text/plain": [
       "count    11606.000000\n",
       "mean        36.132574\n",
       "std          0.103651\n",
       "min         35.922945\n",
       "25%         36.040993\n",
       "50%         36.136090\n",
       "75%         36.217006\n",
       "max         36.414957\n",
       "Name: latitude, dtype: float64"
      ]
     },
     "execution_count": 68,
     "metadata": {},
     "output_type": "execute_result"
    }
   ],
   "source": [
    "df['latitude'].describe().T"
   ]
  },
  {
   "cell_type": "markdown",
   "metadata": {},
   "source": [
    "## longitude\n",
    "<br><b>description:</b> standard measure of angular distance from the prime meridian (east to west)"
   ]
  },
  {
   "cell_type": "code",
   "execution_count": 69,
   "metadata": {},
   "outputs": [
    {
     "data": {
      "text/plain": [
       "count    11606.000000\n",
       "mean      -115.180320\n",
       "std          0.110392\n",
       "min       -115.746375\n",
       "25%       -115.274168\n",
       "50%       -115.193285\n",
       "75%       -115.100375\n",
       "max       -114.815042\n",
       "Name: longitude, dtype: float64"
      ]
     },
     "execution_count": 69,
     "metadata": {},
     "output_type": "execute_result"
    }
   ],
   "source": [
    "df['longitude'].describe().T"
   ]
  },
  {
   "cell_type": "markdown",
   "metadata": {},
   "source": [
    "# OneHotEncoding Categorical Data"
   ]
  },
  {
   "cell_type": "markdown",
   "metadata": {},
   "source": [
    "## property_type"
   ]
  },
  {
   "cell_type": "code",
   "execution_count": 70,
   "metadata": {},
   "outputs": [
    {
     "name": "stderr",
     "output_type": "stream",
     "text": [
      "C:\\Users\\willi\\anaconda3\\lib\\site-packages\\category_encoders\\utils.py:21: FutureWarning: is_categorical is deprecated and will be removed in a future version.  Use is_categorical_dtype instead\n",
      "  elif pd.api.types.is_categorical(cols):\n"
     ]
    },
    {
     "data": {
      "text/plain": [
       "property_type_1  property_type_2\n",
       "1                0                  10062\n",
       "0                1                   1544\n",
       "dtype: int64"
      ]
     },
     "execution_count": 70,
     "metadata": {},
     "output_type": "execute_result"
    }
   ],
   "source": [
    "# OneHotEncoding the property_type column\n",
    "X_property = df['property_type']\n",
    "encoder = ce.OneHotEncoder(cols=['property_type'])\n",
    "X_clean_property = encoder.fit_transform(X_property)\n",
    "encoder.get_feature_names()\n",
    "X_clean_property.value_counts()"
   ]
  },
  {
   "cell_type": "code",
   "execution_count": 71,
   "metadata": {},
   "outputs": [
    {
     "data": {
      "text/html": [
       "<div>\n",
       "<style scoped>\n",
       "    .dataframe tbody tr th:only-of-type {\n",
       "        vertical-align: middle;\n",
       "    }\n",
       "\n",
       "    .dataframe tbody tr th {\n",
       "        vertical-align: top;\n",
       "    }\n",
       "\n",
       "    .dataframe thead th {\n",
       "        text-align: right;\n",
       "    }\n",
       "</style>\n",
       "<table border=\"1\" class=\"dataframe\">\n",
       "  <thead>\n",
       "    <tr style=\"text-align: right;\">\n",
       "      <th></th>\n",
       "      <th>propertytype_singlefamily</th>\n",
       "      <th>propertytype_condo/townhouse</th>\n",
       "    </tr>\n",
       "  </thead>\n",
       "  <tbody>\n",
       "    <tr>\n",
       "      <th>0</th>\n",
       "      <td>1</td>\n",
       "      <td>0</td>\n",
       "    </tr>\n",
       "    <tr>\n",
       "      <th>1</th>\n",
       "      <td>1</td>\n",
       "      <td>0</td>\n",
       "    </tr>\n",
       "    <tr>\n",
       "      <th>2</th>\n",
       "      <td>1</td>\n",
       "      <td>0</td>\n",
       "    </tr>\n",
       "    <tr>\n",
       "      <th>3</th>\n",
       "      <td>1</td>\n",
       "      <td>0</td>\n",
       "    </tr>\n",
       "    <tr>\n",
       "      <th>4</th>\n",
       "      <td>0</td>\n",
       "      <td>1</td>\n",
       "    </tr>\n",
       "  </tbody>\n",
       "</table>\n",
       "</div>"
      ],
      "text/plain": [
       "   propertytype_singlefamily  propertytype_condo/townhouse\n",
       "0                          1                             0\n",
       "1                          1                             0\n",
       "2                          1                             0\n",
       "3                          1                             0\n",
       "4                          0                             1"
      ]
     },
     "execution_count": 71,
     "metadata": {},
     "output_type": "execute_result"
    }
   ],
   "source": [
    "X_clean_property = X_clean_property.rename(columns={'property_type_1':'propertytype_singlefamily', 'property_type_2': 'propertytype_condo/townhouse'})\n",
    "X_clean_property.head()"
   ]
  },
  {
   "cell_type": "code",
   "execution_count": 72,
   "metadata": {},
   "outputs": [],
   "source": [
    "df_clean = pd.concat([df, X_clean_property], axis=1)"
   ]
  },
  {
   "cell_type": "code",
   "execution_count": 73,
   "metadata": {
    "scrolled": false
   },
   "outputs": [
    {
     "data": {
      "text/html": [
       "<div>\n",
       "<style scoped>\n",
       "    .dataframe tbody tr th:only-of-type {\n",
       "        vertical-align: middle;\n",
       "    }\n",
       "\n",
       "    .dataframe tbody tr th {\n",
       "        vertical-align: top;\n",
       "    }\n",
       "\n",
       "    .dataframe thead th {\n",
       "        text-align: right;\n",
       "    }\n",
       "</style>\n",
       "<table border=\"1\" class=\"dataframe\">\n",
       "  <thead>\n",
       "    <tr style=\"text-align: right;\">\n",
       "      <th></th>\n",
       "      <th>address</th>\n",
       "      <th>city</th>\n",
       "      <th>zipcode</th>\n",
       "      <th>price</th>\n",
       "      <th>beds</th>\n",
       "      <th>baths</th>\n",
       "      <th>square_feet</th>\n",
       "      <th>lot_size</th>\n",
       "      <th>year_built</th>\n",
       "      <th>days_on_market</th>\n",
       "      <th>price_per_sqft</th>\n",
       "      <th>hoa_per_mon</th>\n",
       "      <th>latitude</th>\n",
       "      <th>longitude</th>\n",
       "      <th>property_type</th>\n",
       "      <th>propertytype_singlefamily</th>\n",
       "    </tr>\n",
       "  </thead>\n",
       "  <tbody>\n",
       "    <tr>\n",
       "      <th>0</th>\n",
       "      <td>9329 Sienna Vista Dr</td>\n",
       "      <td>Las Vegas</td>\n",
       "      <td>89117</td>\n",
       "      <td>621500</td>\n",
       "      <td>4.0</td>\n",
       "      <td>2.50</td>\n",
       "      <td>2352.0</td>\n",
       "      <td>6098.0</td>\n",
       "      <td>1994.0</td>\n",
       "      <td>19.0</td>\n",
       "      <td>264.0</td>\n",
       "      <td>146.0</td>\n",
       "      <td>36.154483</td>\n",
       "      <td>-115.297871</td>\n",
       "      <td>SingleFamily</td>\n",
       "      <td>1</td>\n",
       "    </tr>\n",
       "    <tr>\n",
       "      <th>1</th>\n",
       "      <td>3358 Wardlaw St</td>\n",
       "      <td>Las Vegas</td>\n",
       "      <td>89117</td>\n",
       "      <td>400000</td>\n",
       "      <td>4.0</td>\n",
       "      <td>3.00</td>\n",
       "      <td>1883.0</td>\n",
       "      <td>3920.0</td>\n",
       "      <td>1995.0</td>\n",
       "      <td>44.0</td>\n",
       "      <td>212.0</td>\n",
       "      <td>67.0</td>\n",
       "      <td>36.128126</td>\n",
       "      <td>-115.263408</td>\n",
       "      <td>SingleFamily</td>\n",
       "      <td>1</td>\n",
       "    </tr>\n",
       "    <tr>\n",
       "      <th>2</th>\n",
       "      <td>3367 Ceremony Dr</td>\n",
       "      <td>Las Vegas</td>\n",
       "      <td>89117</td>\n",
       "      <td>339000</td>\n",
       "      <td>4.0</td>\n",
       "      <td>2.50</td>\n",
       "      <td>2230.0</td>\n",
       "      <td>4356.0</td>\n",
       "      <td>1995.0</td>\n",
       "      <td>44.0</td>\n",
       "      <td>152.0</td>\n",
       "      <td>67.0</td>\n",
       "      <td>36.127931</td>\n",
       "      <td>-115.263037</td>\n",
       "      <td>SingleFamily</td>\n",
       "      <td>1</td>\n",
       "    </tr>\n",
       "    <tr>\n",
       "      <th>3</th>\n",
       "      <td>1680 City View Ct</td>\n",
       "      <td>Las Vegas</td>\n",
       "      <td>89117</td>\n",
       "      <td>818000</td>\n",
       "      <td>4.0</td>\n",
       "      <td>5.00</td>\n",
       "      <td>4863.0</td>\n",
       "      <td>20038.0</td>\n",
       "      <td>1993.0</td>\n",
       "      <td>44.0</td>\n",
       "      <td>168.0</td>\n",
       "      <td>67.0</td>\n",
       "      <td>36.151716</td>\n",
       "      <td>-115.268710</td>\n",
       "      <td>SingleFamily</td>\n",
       "      <td>1</td>\n",
       "    </tr>\n",
       "    <tr>\n",
       "      <th>4</th>\n",
       "      <td>972 Prestwick St</td>\n",
       "      <td>Las Vegas</td>\n",
       "      <td>89145</td>\n",
       "      <td>335000</td>\n",
       "      <td>3.0</td>\n",
       "      <td>2.75</td>\n",
       "      <td>1613.0</td>\n",
       "      <td>2614.0</td>\n",
       "      <td>2001.0</td>\n",
       "      <td>39.0</td>\n",
       "      <td>208.0</td>\n",
       "      <td>175.0</td>\n",
       "      <td>36.160917</td>\n",
       "      <td>-115.294868</td>\n",
       "      <td>Condo/Townhouse</td>\n",
       "      <td>0</td>\n",
       "    </tr>\n",
       "  </tbody>\n",
       "</table>\n",
       "</div>"
      ],
      "text/plain": [
       "                address       city  zipcode   price  beds  baths  square_feet  \\\n",
       "0  9329 Sienna Vista Dr  Las Vegas    89117  621500   4.0   2.50       2352.0   \n",
       "1       3358 Wardlaw St  Las Vegas    89117  400000   4.0   3.00       1883.0   \n",
       "2      3367 Ceremony Dr  Las Vegas    89117  339000   4.0   2.50       2230.0   \n",
       "3     1680 City View Ct  Las Vegas    89117  818000   4.0   5.00       4863.0   \n",
       "4      972 Prestwick St  Las Vegas    89145  335000   3.0   2.75       1613.0   \n",
       "\n",
       "   lot_size  year_built  days_on_market  price_per_sqft  hoa_per_mon  \\\n",
       "0    6098.0      1994.0            19.0           264.0        146.0   \n",
       "1    3920.0      1995.0            44.0           212.0         67.0   \n",
       "2    4356.0      1995.0            44.0           152.0         67.0   \n",
       "3   20038.0      1993.0            44.0           168.0         67.0   \n",
       "4    2614.0      2001.0            39.0           208.0        175.0   \n",
       "\n",
       "    latitude   longitude    property_type  propertytype_singlefamily  \n",
       "0  36.154483 -115.297871     SingleFamily                          1  \n",
       "1  36.128126 -115.263408     SingleFamily                          1  \n",
       "2  36.127931 -115.263037     SingleFamily                          1  \n",
       "3  36.151716 -115.268710     SingleFamily                          1  \n",
       "4  36.160917 -115.294868  Condo/Townhouse                          0  "
      ]
     },
     "execution_count": 73,
     "metadata": {},
     "output_type": "execute_result"
    }
   ],
   "source": [
    "#since there are only 2 categories (condo/townhouse and singlefamily, I don't need both columns, so I'm dropping condo/townhouse)\n",
    "df_clean = df_clean.drop(columns=['propertytype_condo/townhouse'])\n",
    "df_clean.head()"
   ]
  },
  {
   "cell_type": "code",
   "execution_count": 74,
   "metadata": {},
   "outputs": [
    {
     "name": "stdout",
     "output_type": "stream",
     "text": [
      "<class 'pandas.core.frame.DataFrame'>\n",
      "Int64Index: 11606 entries, 0 to 157\n",
      "Data columns (total 16 columns):\n",
      " #   Column                     Non-Null Count  Dtype  \n",
      "---  ------                     --------------  -----  \n",
      " 0   address                    11606 non-null  object \n",
      " 1   city                       11606 non-null  object \n",
      " 2   zipcode                    11606 non-null  int64  \n",
      " 3   price                      11606 non-null  int64  \n",
      " 4   beds                       11606 non-null  float64\n",
      " 5   baths                      11606 non-null  float64\n",
      " 6   square_feet                11606 non-null  float64\n",
      " 7   lot_size                   11606 non-null  float64\n",
      " 8   year_built                 11606 non-null  float64\n",
      " 9   days_on_market             11606 non-null  float64\n",
      " 10  price_per_sqft             11606 non-null  float64\n",
      " 11  hoa_per_mon                11606 non-null  float64\n",
      " 12  latitude                   11606 non-null  float64\n",
      " 13  longitude                  11606 non-null  float64\n",
      " 14  property_type              11606 non-null  object \n",
      " 15  propertytype_singlefamily  11606 non-null  int64  \n",
      "dtypes: float64(10), int64(3), object(3)\n",
      "memory usage: 1.5+ MB\n"
     ]
    }
   ],
   "source": [
    "df_clean.info()"
   ]
  },
  {
   "cell_type": "markdown",
   "metadata": {},
   "source": [
    "# Saving cleaned data"
   ]
  },
  {
   "cell_type": "code",
   "execution_count": 75,
   "metadata": {},
   "outputs": [],
   "source": [
    "#saving the cleaned data to a new csv file in the '../data/interim' subfolder\n",
    "df_clean.to_csv('../data/interim/redfin_data_cleaned.csv')"
   ]
  },
  {
   "cell_type": "code",
   "execution_count": null,
   "metadata": {},
   "outputs": [],
   "source": []
  }
 ],
 "metadata": {
  "kernelspec": {
   "display_name": "Python 3",
   "language": "python",
   "name": "python3"
  },
  "language_info": {
   "codemirror_mode": {
    "name": "ipython",
    "version": 3
   },
   "file_extension": ".py",
   "mimetype": "text/x-python",
   "name": "python",
   "nbconvert_exporter": "python",
   "pygments_lexer": "ipython3",
   "version": "3.7.10"
  }
 },
 "nbformat": 4,
 "nbformat_minor": 4
}
