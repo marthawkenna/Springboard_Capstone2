{
 "cells": [
  {
   "cell_type": "code",
   "execution_count": 1,
   "id": "89a4f534",
   "metadata": {},
   "outputs": [],
   "source": [
    "#load modules\n",
    "import pandas as pd\n",
    "import numpy as np\n",
    "import matplotlib.pyplot as plt\n",
    "import seaborn as sns\n",
    "from sklearn.pipeline import Pipeline\n",
    "from sklearn.preprocessing import StandardScaler\n",
    "from sklearn.model_selection import train_test_split, GridSearchCV\n",
    "from sklearn.linear_model import LinearRegression\n",
    "from sklearn.ensemble import RandomForestRegressor, AdaBoostRegressor, GradientBoostingRegressor\n",
    "from sklearn.metrics import mean_squared_error, mean_absolute_error, r2_score \n",
    "from statsmodels.stats.outliers_influence import variance_inflation_factor\n",
    "import xgboost as xgb\n",
    "from xgboost.sklearn import XGBRegressor\n",
    "import shap"
   ]
  },
  {
   "cell_type": "code",
   "execution_count": 2,
   "id": "4599f993",
   "metadata": {},
   "outputs": [
    {
     "data": {
      "text/html": [
       "<div>\n",
       "<style scoped>\n",
       "    .dataframe tbody tr th:only-of-type {\n",
       "        vertical-align: middle;\n",
       "    }\n",
       "\n",
       "    .dataframe tbody tr th {\n",
       "        vertical-align: top;\n",
       "    }\n",
       "\n",
       "    .dataframe thead th {\n",
       "        text-align: right;\n",
       "    }\n",
       "</style>\n",
       "<table border=\"1\" class=\"dataframe\">\n",
       "  <thead>\n",
       "    <tr style=\"text-align: right;\">\n",
       "      <th></th>\n",
       "      <th>zipcode</th>\n",
       "      <th>price</th>\n",
       "      <th>beds</th>\n",
       "      <th>baths</th>\n",
       "      <th>square_feet</th>\n",
       "      <th>lot_size</th>\n",
       "      <th>year_built</th>\n",
       "      <th>days_on_market</th>\n",
       "      <th>hoa_per_mon</th>\n",
       "      <th>latitude</th>\n",
       "      <th>longitude</th>\n",
       "      <th>propertytype_singlefamily</th>\n",
       "      <th>city_Henderson</th>\n",
       "      <th>city_BlueDiamond</th>\n",
       "      <th>city_BoulderCity</th>\n",
       "      <th>city_NorthLasVegas</th>\n",
       "      <th>city_Enterprise</th>\n",
       "    </tr>\n",
       "  </thead>\n",
       "  <tbody>\n",
       "    <tr>\n",
       "      <th>0</th>\n",
       "      <td>89117</td>\n",
       "      <td>621500</td>\n",
       "      <td>4.0</td>\n",
       "      <td>2.50</td>\n",
       "      <td>2352.0</td>\n",
       "      <td>6098.0</td>\n",
       "      <td>1994.0</td>\n",
       "      <td>19.0</td>\n",
       "      <td>146.0</td>\n",
       "      <td>36.154483</td>\n",
       "      <td>-115.297871</td>\n",
       "      <td>1</td>\n",
       "      <td>0</td>\n",
       "      <td>0</td>\n",
       "      <td>0</td>\n",
       "      <td>0</td>\n",
       "      <td>0</td>\n",
       "    </tr>\n",
       "    <tr>\n",
       "      <th>1</th>\n",
       "      <td>89117</td>\n",
       "      <td>400000</td>\n",
       "      <td>4.0</td>\n",
       "      <td>3.00</td>\n",
       "      <td>1883.0</td>\n",
       "      <td>3920.0</td>\n",
       "      <td>1995.0</td>\n",
       "      <td>44.0</td>\n",
       "      <td>67.0</td>\n",
       "      <td>36.128126</td>\n",
       "      <td>-115.263408</td>\n",
       "      <td>1</td>\n",
       "      <td>0</td>\n",
       "      <td>0</td>\n",
       "      <td>0</td>\n",
       "      <td>0</td>\n",
       "      <td>0</td>\n",
       "    </tr>\n",
       "    <tr>\n",
       "      <th>2</th>\n",
       "      <td>89117</td>\n",
       "      <td>339000</td>\n",
       "      <td>4.0</td>\n",
       "      <td>2.50</td>\n",
       "      <td>2230.0</td>\n",
       "      <td>4356.0</td>\n",
       "      <td>1995.0</td>\n",
       "      <td>44.0</td>\n",
       "      <td>67.0</td>\n",
       "      <td>36.127931</td>\n",
       "      <td>-115.263037</td>\n",
       "      <td>1</td>\n",
       "      <td>0</td>\n",
       "      <td>0</td>\n",
       "      <td>0</td>\n",
       "      <td>0</td>\n",
       "      <td>0</td>\n",
       "    </tr>\n",
       "    <tr>\n",
       "      <th>3</th>\n",
       "      <td>89117</td>\n",
       "      <td>818000</td>\n",
       "      <td>4.0</td>\n",
       "      <td>5.00</td>\n",
       "      <td>4863.0</td>\n",
       "      <td>20038.0</td>\n",
       "      <td>1993.0</td>\n",
       "      <td>44.0</td>\n",
       "      <td>67.0</td>\n",
       "      <td>36.151716</td>\n",
       "      <td>-115.268710</td>\n",
       "      <td>1</td>\n",
       "      <td>0</td>\n",
       "      <td>0</td>\n",
       "      <td>0</td>\n",
       "      <td>0</td>\n",
       "      <td>0</td>\n",
       "    </tr>\n",
       "    <tr>\n",
       "      <th>4</th>\n",
       "      <td>89145</td>\n",
       "      <td>335000</td>\n",
       "      <td>3.0</td>\n",
       "      <td>2.75</td>\n",
       "      <td>1613.0</td>\n",
       "      <td>2614.0</td>\n",
       "      <td>2001.0</td>\n",
       "      <td>39.0</td>\n",
       "      <td>175.0</td>\n",
       "      <td>36.160917</td>\n",
       "      <td>-115.294868</td>\n",
       "      <td>0</td>\n",
       "      <td>0</td>\n",
       "      <td>0</td>\n",
       "      <td>0</td>\n",
       "      <td>0</td>\n",
       "      <td>0</td>\n",
       "    </tr>\n",
       "  </tbody>\n",
       "</table>\n",
       "</div>"
      ],
      "text/plain": [
       "   zipcode   price  beds  baths  square_feet  lot_size  year_built  \\\n",
       "0    89117  621500   4.0   2.50       2352.0    6098.0      1994.0   \n",
       "1    89117  400000   4.0   3.00       1883.0    3920.0      1995.0   \n",
       "2    89117  339000   4.0   2.50       2230.0    4356.0      1995.0   \n",
       "3    89117  818000   4.0   5.00       4863.0   20038.0      1993.0   \n",
       "4    89145  335000   3.0   2.75       1613.0    2614.0      2001.0   \n",
       "\n",
       "   days_on_market  hoa_per_mon   latitude   longitude  \\\n",
       "0            19.0        146.0  36.154483 -115.297871   \n",
       "1            44.0         67.0  36.128126 -115.263408   \n",
       "2            44.0         67.0  36.127931 -115.263037   \n",
       "3            44.0         67.0  36.151716 -115.268710   \n",
       "4            39.0        175.0  36.160917 -115.294868   \n",
       "\n",
       "   propertytype_singlefamily  city_Henderson  city_BlueDiamond  \\\n",
       "0                          1               0                 0   \n",
       "1                          1               0                 0   \n",
       "2                          1               0                 0   \n",
       "3                          1               0                 0   \n",
       "4                          0               0                 0   \n",
       "\n",
       "   city_BoulderCity  city_NorthLasVegas  city_Enterprise  \n",
       "0                 0                   0                0  \n",
       "1                 0                   0                0  \n",
       "2                 0                   0                0  \n",
       "3                 0                   0                0  \n",
       "4                 0                   0                0  "
      ]
     },
     "execution_count": 2,
     "metadata": {},
     "output_type": "execute_result"
    }
   ],
   "source": [
    "# load data for preprocessed data\n",
    "df = pd.read_csv('../data/interim/redfin_data_to_model.csv', index_col=0)\n",
    "df.head()"
   ]
  },
  {
   "cell_type": "code",
   "execution_count": 3,
   "id": "757874ee",
   "metadata": {},
   "outputs": [
    {
     "data": {
      "text/plain": [
       "(11547, 17)"
      ]
     },
     "execution_count": 3,
     "metadata": {},
     "output_type": "execute_result"
    }
   ],
   "source": [
    "df.shape"
   ]
  },
  {
   "cell_type": "code",
   "execution_count": 4,
   "id": "9f7fa8a6",
   "metadata": {},
   "outputs": [
    {
     "data": {
      "text/plain": [
       "((11547, 16), (11547,))"
      ]
     },
     "execution_count": 4,
     "metadata": {},
     "output_type": "execute_result"
    }
   ],
   "source": [
    "# isolating dependent variable from features\n",
    "y = df['price']\n",
    "X = df.drop(columns=['price'])\n",
    "\n",
    "X.shape, y.shape"
   ]
  },
  {
   "cell_type": "markdown",
   "id": "19de7d53",
   "metadata": {},
   "source": [
    "After testing my model with and without using vif, I've decided not to use it because my model performed much better without."
   ]
  },
  {
   "cell_type": "code",
   "execution_count": 5,
   "id": "1278dcec",
   "metadata": {},
   "outputs": [
    {
     "data": {
      "text/plain": [
       "'\\ndef iterate_vif(X, vif_threshold=11, max_vif=12):\\n    count = 0\\n    while max_vif > vif_threshold:\\n        count += 1\\n        print(\"Iteration # \"+str(count))\\n        vif = pd.DataFrame()\\n        vif[\"VIFactor\"] = [variance_inflation_factor(X.values, i) for i in range(X.shape[1])]\\n        vif[\"features\"] = X.columns\\n\\n        if vif[\\'VIFactor\\'].max() > vif_threshold:\\n            print(\\'Removing %s with VIF of %f\\' % (vif[vif[\\'VIFactor\\'] == vif[\\'VIFactor\\'].max()][\\'features\\'].values[0], vif[\\'VIFactor\\'].max()))\\n            X = X.drop(vif[vif[\\'VIFactor\\'] == vif[\\'VIFactor\\'].max()][\\'features\\'].values[0], axis=1)\\n            max_vif = vif[\\'VIFactor\\'].max()\\n        else:\\n            print(\\'Complete\\')\\n            break\\n    return X, vif.sort_values(\\'VIFactor\\')\\n\\nfinal_X, final_vif = iterate_vif(X)\\n'"
      ]
     },
     "execution_count": 5,
     "metadata": {},
     "output_type": "execute_result"
    }
   ],
   "source": [
    "'''\n",
    "def iterate_vif(X, vif_threshold=11, max_vif=12):\n",
    "    count = 0\n",
    "    while max_vif > vif_threshold:\n",
    "        count += 1\n",
    "        print(\"Iteration # \"+str(count))\n",
    "        vif = pd.DataFrame()\n",
    "        vif[\"VIFactor\"] = [variance_inflation_factor(X.values, i) for i in range(X.shape[1])]\n",
    "        vif[\"features\"] = X.columns\n",
    "\n",
    "        if vif['VIFactor'].max() > vif_threshold:\n",
    "            print('Removing %s with VIF of %f' % (vif[vif['VIFactor'] == vif['VIFactor'].max()]['features'].values[0], vif['VIFactor'].max()))\n",
    "            X = X.drop(vif[vif['VIFactor'] == vif['VIFactor'].max()]['features'].values[0], axis=1)\n",
    "            max_vif = vif['VIFactor'].max()\n",
    "        else:\n",
    "            print('Complete')\n",
    "            break\n",
    "    return X, vif.sort_values('VIFactor')\n",
    "\n",
    "final_X, final_vif = iterate_vif(X)\n",
    "'''"
   ]
  },
  {
   "cell_type": "code",
   "execution_count": 6,
   "id": "c2370b68",
   "metadata": {
    "scrolled": true
   },
   "outputs": [],
   "source": [
    "#final_X.head()"
   ]
  },
  {
   "cell_type": "code",
   "execution_count": 7,
   "id": "38b96e3c",
   "metadata": {
    "scrolled": true
   },
   "outputs": [],
   "source": [
    "#final_vif"
   ]
  },
  {
   "cell_type": "code",
   "execution_count": 8,
   "id": "1b262c85",
   "metadata": {},
   "outputs": [],
   "source": [
    "#X = final_X"
   ]
  },
  {
   "cell_type": "markdown",
   "id": "0b5da994",
   "metadata": {},
   "source": [
    "## Splitting data into train/test sets"
   ]
  },
  {
   "cell_type": "code",
   "execution_count": 9,
   "id": "ca740189",
   "metadata": {},
   "outputs": [],
   "source": [
    "# splitting data into train/test sets\n",
    "X_train, X_test, y_train, y_test = train_test_split(X, y, test_size=0.3, random_state=42)"
   ]
  },
  {
   "cell_type": "markdown",
   "id": "a0e968f3",
   "metadata": {},
   "source": [
    "## Evaluating R^2 score for different regression models"
   ]
  },
  {
   "cell_type": "markdown",
   "id": "bbfe2cc1",
   "metadata": {},
   "source": [
    "##### LinearRegression()"
   ]
  },
  {
   "cell_type": "code",
   "execution_count": 10,
   "id": "3c8b89f4",
   "metadata": {},
   "outputs": [
    {
     "data": {
      "text/plain": [
       "0.735479403180193"
      ]
     },
     "execution_count": 10,
     "metadata": {},
     "output_type": "execute_result"
    }
   ],
   "source": [
    "lr_model = LinearRegression().fit(X_train, y_train)\n",
    "lr_model.score(X_train, y_train)"
   ]
  },
  {
   "cell_type": "code",
   "execution_count": 11,
   "id": "68e1a406",
   "metadata": {},
   "outputs": [
    {
     "data": {
      "text/plain": [
       "0.7477430525629187"
      ]
     },
     "execution_count": 11,
     "metadata": {},
     "output_type": "execute_result"
    }
   ],
   "source": [
    "lr_model.score(X_test, y_test)"
   ]
  },
  {
   "cell_type": "markdown",
   "id": "2a63efd8",
   "metadata": {},
   "source": [
    "##### RandomForestRegressor()"
   ]
  },
  {
   "cell_type": "code",
   "execution_count": 12,
   "id": "6b5c1be9",
   "metadata": {},
   "outputs": [
    {
     "data": {
      "text/plain": [
       "0.9792846564404013"
      ]
     },
     "execution_count": 12,
     "metadata": {},
     "output_type": "execute_result"
    }
   ],
   "source": [
    "rfr_model = RandomForestRegressor(random_state=42).fit(X_train, y_train)\n",
    "rfr_model.score(X_train, y_train)"
   ]
  },
  {
   "cell_type": "code",
   "execution_count": 13,
   "id": "bb08794b",
   "metadata": {},
   "outputs": [
    {
     "data": {
      "text/plain": [
       "0.8750237556978063"
      ]
     },
     "execution_count": 13,
     "metadata": {},
     "output_type": "execute_result"
    }
   ],
   "source": [
    "rfr_model.score(X_test, y_test)"
   ]
  },
  {
   "cell_type": "markdown",
   "id": "cdffdbff",
   "metadata": {},
   "source": [
    "##### GradientBoostingRegressor()"
   ]
  },
  {
   "cell_type": "code",
   "execution_count": 14,
   "id": "475e74c2",
   "metadata": {},
   "outputs": [
    {
     "data": {
      "text/plain": [
       "0.9318526537916674"
      ]
     },
     "execution_count": 14,
     "metadata": {},
     "output_type": "execute_result"
    }
   ],
   "source": [
    "gbr_model = GradientBoostingRegressor(random_state=42).fit(X_train, y_train)\n",
    "gbr_model.score(X_train, y_train)"
   ]
  },
  {
   "cell_type": "code",
   "execution_count": 15,
   "id": "6a3e54ef",
   "metadata": {},
   "outputs": [
    {
     "data": {
      "text/plain": [
       "0.8628651533998674"
      ]
     },
     "execution_count": 15,
     "metadata": {},
     "output_type": "execute_result"
    }
   ],
   "source": [
    "gbr_model.score(X_test, y_test)"
   ]
  },
  {
   "cell_type": "markdown",
   "id": "ea43cac4",
   "metadata": {},
   "source": [
    "##### AdaBoostRegressor()"
   ]
  },
  {
   "cell_type": "code",
   "execution_count": 16,
   "id": "b1150369",
   "metadata": {},
   "outputs": [
    {
     "data": {
      "text/plain": [
       "0.48283897078218085"
      ]
     },
     "execution_count": 16,
     "metadata": {},
     "output_type": "execute_result"
    }
   ],
   "source": [
    "abr_model = AdaBoostRegressor(random_state=42).fit(X_train, y_train)\n",
    "abr_model.score(X_train, y_train)"
   ]
  },
  {
   "cell_type": "code",
   "execution_count": 17,
   "id": "da54068c",
   "metadata": {},
   "outputs": [
    {
     "data": {
      "text/plain": [
       "0.46386188563344266"
      ]
     },
     "execution_count": 17,
     "metadata": {},
     "output_type": "execute_result"
    }
   ],
   "source": [
    "abr_model.score(X_test, y_test)"
   ]
  },
  {
   "cell_type": "markdown",
   "id": "232a76bc",
   "metadata": {},
   "source": [
    "##### XGBRegressor()"
   ]
  },
  {
   "cell_type": "code",
   "execution_count": 18,
   "id": "54de536f",
   "metadata": {},
   "outputs": [
    {
     "data": {
      "text/plain": [
       "0.9912564672142605"
      ]
     },
     "execution_count": 18,
     "metadata": {},
     "output_type": "execute_result"
    }
   ],
   "source": [
    "xgbr_model = XGBRegressor().fit(X_train, y_train)\n",
    "xgbr_model.score(X_train, y_train)"
   ]
  },
  {
   "cell_type": "code",
   "execution_count": 19,
   "id": "9b0be3c2",
   "metadata": {},
   "outputs": [
    {
     "data": {
      "text/plain": [
       "0.8729418068803841"
      ]
     },
     "execution_count": 19,
     "metadata": {},
     "output_type": "execute_result"
    }
   ],
   "source": [
    "xgbr_model.score(X_test, y_test)"
   ]
  },
  {
   "cell_type": "markdown",
   "id": "e884cc22",
   "metadata": {},
   "source": [
    "### Results"
   ]
  },
  {
   "cell_type": "markdown",
   "id": "1ca894dc",
   "metadata": {},
   "source": [
    "While the XGBRegressor appears to perform the best on the training data, RandomForestRegressor consistantly outperforms the XGBRegressor on the test set. I would like to see how both of these perform with GridSearchCV since the scores are so close.  "
   ]
  },
  {
   "cell_type": "markdown",
   "id": "554f440b",
   "metadata": {},
   "source": [
    "## Hyperparameter tuning for RandomForestRegressor model using GridSearchCV"
   ]
  },
  {
   "cell_type": "code",
   "execution_count": 20,
   "id": "8b0304f9",
   "metadata": {},
   "outputs": [
    {
     "name": "stdout",
     "output_type": "stream",
     "text": [
      "Random Forest Best Score: 0.8612142173119061\n",
      "Random Forest Best Parameters: {'max_depth': 14, 'max_features': 'sqrt', 'n_estimators': 50}\n"
     ]
    }
   ],
   "source": [
    "# setting param_grid variable for RandomForestRegressor GridSearchCV\n",
    "param_grid_rfr = {\n",
    "    'max_depth': range(3,15),\n",
    "    'n_estimators': (10, 50, 100, 1000),\n",
    "    'max_features': ('auto', 'sqrt', 'log2')\n",
    "    }\n",
    "\n",
    "# GridSearchCV for RandomForestRegressor model\n",
    "rfr_cv = GridSearchCV(\n",
    "    estimator=RandomForestRegressor(), \n",
    "    param_grid=param_grid_rfr, \n",
    "    cv=5, n_jobs=-1)\n",
    "\n",
    "rfr_cv.fit(X_train, y_train)\n",
    "\n",
    "print(\"Random Forest Best Score: \" + str(rfr_cv.best_score_))\n",
    "print(\"Random Forest Best Parameters: \" + str(rfr_cv.best_params_))"
   ]
  },
  {
   "cell_type": "code",
   "execution_count": 21,
   "id": "27fd3d07",
   "metadata": {},
   "outputs": [],
   "source": [
    "best_params_rfr = rfr_cv.best_params_"
   ]
  },
  {
   "cell_type": "markdown",
   "id": "3b8071cd",
   "metadata": {},
   "source": [
    "## Hyperparameter tuning for XGBRegressor model using GridSearchCV"
   ]
  },
  {
   "cell_type": "code",
   "execution_count": 22,
   "id": "99a456fe",
   "metadata": {},
   "outputs": [
    {
     "name": "stdout",
     "output_type": "stream",
     "text": [
      "XGBoost Best Score: 0.8660038841972069\n",
      "XGBoost Best Parameters: {'eta': 0.2, 'max_depth': 4}\n"
     ]
    }
   ],
   "source": [
    "# setting param_grid variable for GXGBoostRegressor GridSearchCV\n",
    "param_grid_xgbr = {\n",
    "    'max_depth': range(3,15),\n",
    "    'eta': (0.3, 0.2, 0.1, 0.01, 0.005)\n",
    "        }\n",
    "\n",
    "xgbr_cv = GridSearchCV(\n",
    "    estimator=XGBRegressor(), \n",
    "    param_grid=param_grid_xgbr,\n",
    "    cv=5, n_jobs=-1)\n",
    "\n",
    "xgbr_cv.fit(X_train, y_train)\n",
    "\n",
    "print(\"XGBoost Best Score: \" + str(xgbr_cv.best_score_))\n",
    "print(\"XGBoost Best Parameters: \" + str(xgbr_cv.best_params_))"
   ]
  },
  {
   "cell_type": "code",
   "execution_count": 23,
   "id": "8940b9e2",
   "metadata": {},
   "outputs": [],
   "source": [
    "best_params_xgbr = xgbr_cv.best_params_"
   ]
  },
  {
   "cell_type": "markdown",
   "id": "15a45dbe",
   "metadata": {},
   "source": [
    "## Building model with best_params_"
   ]
  },
  {
   "cell_type": "markdown",
   "id": "2720dedb",
   "metadata": {},
   "source": [
    "##### RandomForestRegressor had the best scores overall, so I am choosing to continue with this as my model"
   ]
  },
  {
   "cell_type": "code",
   "execution_count": 24,
   "id": "6d80fc8a",
   "metadata": {},
   "outputs": [
    {
     "data": {
      "image/png": "[encoded data removed]",
      "text/plain": [
       "<Figure size 432x288 with 1 Axes>"
      ]
     },
     "metadata": {
      "needs_background": "light"
     },
     "output_type": "display_data"
    }
   ],
   "source": [
    "# fitting RandomForestRegressor model with best_params_ (see above)\n",
    "model = RandomForestRegressor(\n",
    "    max_depth=best_params_rfr['max_depth'], \n",
    "    n_estimators=best_params_rfr['n_estimators'],\n",
    "    max_features=best_params_rfr['max_features']\n",
    "    )\n",
    "\n",
    "model.fit(X_train, y_train)\n",
    "\n",
    "#using model to make predictions\n",
    "y_pred = model.predict(X_test)\n",
    "\n",
    "#plotting predictions against test values\n",
    "plt.scatter(y_test, y_pred)\n",
    "\n",
    "plt.title('RandomForestRegressor - predictions vs. actual')\n",
    "plt.xlabel('actual')\n",
    "plt.ylabel('predictions')\n",
    "plt.show()"
   ]
  },
  {
   "cell_type": "code",
   "execution_count": 25,
   "id": "f4b8aa62",
   "metadata": {},
   "outputs": [
    {
     "name": "stdout",
     "output_type": "stream",
     "text": [
      "RFR R2 score: 0.8722464438406762\n",
      "RFR RMSE: 120009.90656731806\n",
      "RFR MAE: 49354.1606051501\n"
     ]
    }
   ],
   "source": [
    "#scoring my model\n",
    "r2 = r2_score(y_test, y_pred)\n",
    "mse = mean_squared_error(y_test, y_pred)\n",
    "rmse = np.sqrt(mse)\n",
    "mae = mean_absolute_error(y_test, y_pred)\n",
    "\n",
    "print(\"RFR R2 score: \" + str(r2))\n",
    "print(\"RFR RMSE: \" + str(rmse))\n",
    "print(\"RFR MAE: \" + str(mae))"
   ]
  },
  {
   "cell_type": "markdown",
   "id": "1c432aca",
   "metadata": {},
   "source": [
    "## Shap analysis"
   ]
  },
  {
   "cell_type": "code",
   "execution_count": 26,
   "id": "f4acbbca",
   "metadata": {},
   "outputs": [],
   "source": [
    "explainer = shap.TreeExplainer(model)\n",
    "\n",
    "shap_values = explainer.shap_values(X_train)"
   ]
  },
  {
   "cell_type": "code",
   "execution_count": 27,
   "id": "5ee624c0",
   "metadata": {},
   "outputs": [
    {
     "data": {
      "image/png": "[encoded data removed]",
      "text/plain": [
       "<Figure size 576x568.8 with 2 Axes>"
      ]
     },
     "metadata": {
      "needs_background": "light"
     },
     "output_type": "display_data"
    }
   ],
   "source": [
    "#summary plot\n",
    "shap.summary_plot(shap_values, X_train)"
   ]
  },
  {
   "cell_type": "code",
   "execution_count": 28,
   "id": "6dc442da",
   "metadata": {},
   "outputs": [],
   "source": [
    "#dependence plot for most important feature \n",
    "#shap.dependence_plot('square_feet', shap_values, X_train)"
   ]
  },
  {
   "cell_type": "code",
   "execution_count": 29,
   "id": "c14e376c",
   "metadata": {},
   "outputs": [
    {
     "data": {
      "image/png": "[encoded data removed]",
      "text/plain": [
       "<Figure size 576x568.8 with 1 Axes>"
      ]
     },
     "metadata": {
      "needs_background": "light"
     },
     "output_type": "display_data"
    }
   ],
   "source": [
    "shap.summary_plot(shap_values, X_train, plot_type='bar')"
   ]
  },
  {
   "cell_type": "code",
   "execution_count": null,
   "id": "a5d613df",
   "metadata": {},
   "outputs": [],
   "source": []
  }
 ],
 "metadata": {
  "kernelspec": {
   "display_name": "Python 3",
   "language": "python",
   "name": "python3"
  },
  "language_info": {
   "codemirror_mode": {
    "name": "ipython",
    "version": 3
   },
   "file_extension": ".py",
   "mimetype": "text/x-python",
   "name": "python",
   "nbconvert_exporter": "python",
   "pygments_lexer": "ipython3",
   "version": "3.7.10"
  }
 },
 "nbformat": 4,
 "nbformat_minor": 5
}
